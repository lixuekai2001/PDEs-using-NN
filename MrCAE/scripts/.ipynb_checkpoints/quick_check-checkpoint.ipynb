{
 "cells": [
  {
   "cell_type": "code",
   "execution_count": 1,
   "metadata": {},
   "outputs": [],
   "source": [
    "import os\n",
    "import sys\n",
    "import time\n",
    "import torch\n",
    "import numpy as np\n",
    "import collections\n",
    "import matplotlib.pyplot as plt\n",
    "import torch_cae_baseline as net"
   ]
  },
  {
   "cell_type": "code",
   "execution_count": null,
   "metadata": {},
   "outputs": [],
   "source": [
    "# data & configs\n",
    "sst_mask = np.load('./data/npy/sst.mnmean.mask.npy')\n",
    "nt, nx, ny = sst_mask.shape\n",
    "n_levels = 4\n",
    "max_fs = 3**(n_levels)\n",
    "err_threshold = 1e-5"
   ]
  },
  {
   "cell_type": "code",
   "execution_count": null,
   "metadata": {},
   "outputs": [],
   "source": [
    "# padding sizes\n",
    "px = int(np.ceil(nx/max_fs)*max_fs)\n",
    "py = int(np.ceil(ny/max_fs)*max_fs)\n",
    "top_margin = int(np.floor((px-nx)/2))\n",
    "bottom_margin = int(np.ceil((px-nx)/2))\n",
    "left_margin = int(np.floor((py-ny)/2))\n",
    "right_margin = int(np.ceil((py-ny)/2))\n",
    "\n",
    "print('margins: left {}, right {}, top {}, bottom {}'.format(left_margin, right_margin, top_margin, bottom_margin))"
   ]
  },
  {
   "cell_type": "code",
   "execution_count": null,
   "metadata": {},
   "outputs": [],
   "source": [
    "# pad & scale the images\n",
    "D = np.pad(sst_mask, ((0, 0), (0, 0), (left_margin, right_margin)), 'wrap') # cirular (horizontally)\n",
    "D = np.pad(D, ((0, 0), (top_margin, bottom_margin), (0, 0)), 'reflect')     # symmetric (vertically)\n",
    "print('shape of the padded images: {} x {}'.format(D.shape[1], D.shape[2]))\n",
    "\n",
    "plt.figure(figsize=(15,8))\n",
    "plt.imshow(D[0,:,:])\n",
    "plt.title('sampled image with padding',fontsize=20)\n",
    "\n",
    "base = D.min()\n",
    "scale = np.max(D) - np.min(D)\n",
    "scaled_D = (D - base)/scale\n",
    "print('max: {}, min: {}, mean: {}'.format(scaled_D.max(), scaled_D.min(), scaled_D.mean()))"
   ]
  },
  {
   "cell_type": "code",
   "execution_count": null,
   "metadata": {},
   "outputs": [],
   "source": [
    "# init model & load data\n",
    "model = net.CAE(n_levels=4, n_layers=2, n_blocks_for_each_unit=2, activation=torch.nn.Sequential(), std=0.01)\n",
    "model.load_data(scaled_D)"
   ]
  },
  {
   "cell_type": "code",
   "execution_count": null,
   "metadata": {},
   "outputs": [],
   "source": [
    "# train on level 0\n",
    "model.train_arch(max_epoch=10, batch_size=100, lr=1e-3, multiscale_loss=True, \n",
    "                 loss_type='l2', verbose=2, model_path='./model')"
   ]
  },
  {
   "cell_type": "code",
   "execution_count": null,
   "metadata": {},
   "outputs": [],
   "source": []
  },
  {
   "cell_type": "code",
   "execution_count": null,
   "metadata": {},
   "outputs": [],
   "source": []
  },
  {
   "cell_type": "code",
   "execution_count": null,
   "metadata": {},
   "outputs": [],
   "source": []
  },
  {
   "cell_type": "code",
   "execution_count": null,
   "metadata": {},
   "outputs": [],
   "source": []
  },
  {
   "cell_type": "code",
   "execution_count": 6,
   "metadata": {},
   "outputs": [
    {
     "name": "stdout",
     "output_type": "stream",
     "text": [
      "0.5000169277191162\n",
      "0.0755719244480133\n",
      "0.056541915982961655\n",
      "0.041283853352069855\n",
      "0.029635069891810417\n",
      "0.021189451217651367\n",
      "0.015160070732235909\n",
      "0.009920932352542877\n",
      "0.004347345791757107\n",
      "0.0011327755637466908\n"
     ]
    }
   ],
   "source": [
    "samples = torch.rand(100, 1, 81, 81)\n",
    "op = torch.nn.Conv2d(1, 9, 3, stride=3, padding=0)\n",
    "# init weight \n",
    "# for i in range(9):\n",
    "#     op.bias.data[i] = 0.0\n",
    "#     weight = np.zeros(9)\n",
    "#     weight[i] = 1.0\n",
    "#     op.weight.data[i] = torch.tensor(weight).resize(3,3)\n",
    "    \n",
    "# rep = op(samples)\n",
    "# print(rep[0])\n",
    "\n",
    "op2 = torch.nn.ConvTranspose2d(9, 1, 3, stride=3, padding=0)\n",
    "# init weight \n",
    "# op2.bias.data[0] = 0.0\n",
    "# for i in range(9):\n",
    "#     weight = np.zeros(9)\n",
    "#     weight[i] = 1.0\n",
    "#     op2.weight.data[i] = torch.tensor(weight).resize(3,3)\n",
    "# out = op2(rep)\n",
    "# print((out - samples).max())\n",
    "\n",
    "criterion = torch.nn.MSELoss()\n",
    "loss = criterion(samples, out)\n",
    "optimizer = torch.optim.Adam([{'params': op.parameters()}, {'params': op2.parameters()}], lr=1e-3, eps=1e-3)\n",
    "for i in range(2000):\n",
    "    optimizer.zero_grad()\n",
    "    out = op2(op(samples))\n",
    "    loss = criterion(out, samples)\n",
    "    if i % 200 == 0:\n",
    "        print(loss.item())\n",
    "    loss.backward()\n",
    "    optimizer.step()"
   ]
  },
  {
   "cell_type": "code",
   "execution_count": 16,
   "metadata": {},
   "outputs": [],
   "source": [
    "samples1 = torch.rand(100, 1, 81, 81)\n",
    "samples2 = torch.rand(100, 1, 81, 81)\n",
    "diff = torch.max(torch.abs(samples1 - samples2), dim=0, keepdim=True)[0]"
   ]
  },
  {
   "cell_type": "code",
   "execution_count": null,
   "metadata": {},
   "outputs": [],
   "source": []
  },
  {
   "cell_type": "code",
   "execution_count": null,
   "metadata": {},
   "outputs": [],
   "source": []
  },
  {
   "cell_type": "code",
   "execution_count": null,
   "metadata": {},
   "outputs": [],
   "source": []
  },
  {
   "cell_type": "code",
   "execution_count": null,
   "metadata": {},
   "outputs": [],
   "source": []
  },
  {
   "cell_type": "code",
   "execution_count": null,
   "metadata": {},
   "outputs": [],
   "source": []
  },
  {
   "cell_type": "code",
   "execution_count": null,
   "metadata": {},
   "outputs": [],
   "source": []
  },
  {
   "cell_type": "code",
   "execution_count": null,
   "metadata": {},
   "outputs": [],
   "source": [
    "# init model & load data\n",
    "data_path = '../data/npy/toy1.npy'\n",
    "model_path = '../model/toy1/'\n",
    "result_path = '../result/toy1/'\n",
    "\n",
    "scaled_Phi = np.load(data_path)\n",
    "model = net.CAE(n_levels=4, activation=torch.nn.Sequential())\n",
    "model.load_data(scaled_Phi)"
   ]
  },
  {
   "cell_type": "code",
   "execution_count": null,
   "metadata": {},
   "outputs": [],
   "source": [
    "for i in range(4):\n",
    "    model.deeper_op(std=0.0)"
   ]
  },
  {
   "cell_type": "code",
   "execution_count": null,
   "metadata": {},
   "outputs": [],
   "source": [
    "_, inp, out, hids = model(model.train[[1], :, :, :], model.cur_level, True, True)"
   ]
  },
  {
   "cell_type": "code",
   "execution_count": null,
   "metadata": {},
   "outputs": [],
   "source": [
    "fig, axes = plt.subplots(1, 4, figsize=(16, 3))\n",
    "for i, k in enumerate(inp.keys()):\n",
    "    print(inp[k].size())\n",
    "    axes[i].pcolor((inp[k]).squeeze().cpu().detach().numpy())"
   ]
  },
  {
   "cell_type": "code",
   "execution_count": null,
   "metadata": {},
   "outputs": [],
   "source": [
    "fig, axes = plt.subplots(1, 4, figsize=(16, 3))\n",
    "for i, k in enumerate(hids.keys()):\n",
    "    print(k, ': ', hids[k].size())\n",
    "    axes[i].pcolor((hids[k]).squeeze().cpu().detach().numpy())"
   ]
  },
  {
   "cell_type": "code",
   "execution_count": null,
   "metadata": {},
   "outputs": [],
   "source": [
    "fig, axes = plt.subplots(1, 4, figsize=(16, 3))\n",
    "for i, k in enumerate(out.keys()):\n",
    "    print(k, ': ', out[k].size())\n",
    "    axes[i].pcolor((out[k]).squeeze().cpu().detach().numpy())"
   ]
  },
  {
   "cell_type": "code",
   "execution_count": null,
   "metadata": {},
   "outputs": [],
   "source": [
    "sigmoid = torch.nn.Sigmoid()\n",
    "output = model._modules['L0_Conv_0'](inp['0'])\n",
    "plt.pcolor(output.squeeze().cpu().detach().numpy())\n",
    "fig, axes = plt.subplots(1, 4, figsize=(16, 3))\n",
    "for i in range(4):\n",
    "    tmp = torch.nn.functional.pad(output, (1, 1, 1, 1), 'replicate')\n",
    "    output = model._modules['L{}_deConv_0'.format(i)](tmp)\n",
    "    output = sigmoid(output[:, :, 2:-2, 2:-2])\n",
    "    axes[i].pcolor(output.squeeze().cpu().detach().numpy())"
   ]
  },
  {
   "cell_type": "code",
   "execution_count": null,
   "metadata": {},
   "outputs": [],
   "source": []
  },
  {
   "cell_type": "code",
   "execution_count": null,
   "metadata": {},
   "outputs": [],
   "source": []
  },
  {
   "cell_type": "code",
   "execution_count": null,
   "metadata": {},
   "outputs": [],
   "source": []
  },
  {
   "cell_type": "code",
   "execution_count": null,
   "metadata": {},
   "outputs": [],
   "source": []
  },
  {
   "cell_type": "code",
   "execution_count": null,
   "metadata": {},
   "outputs": [],
   "source": []
  },
  {
   "cell_type": "code",
   "execution_count": null,
   "metadata": {},
   "outputs": [],
   "source": []
  }
 ],
 "metadata": {
  "kernelspec": {
   "display_name": "Python 3",
   "language": "python",
   "name": "python3"
  },
  "language_info": {
   "codemirror_mode": {
    "name": "ipython",
    "version": 3
   },
   "file_extension": ".py",
   "mimetype": "text/x-python",
   "name": "python",
   "nbconvert_exporter": "python",
   "pygments_lexer": "ipython3",
   "version": "3.6.8"
  }
 },
 "nbformat": 4,
 "nbformat_minor": 2
}
