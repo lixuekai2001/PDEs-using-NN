{
 "cells": [
  {
   "cell_type": "markdown",
   "metadata": {},
   "source": [
    "pyJHTDB are failed to compile on windows. One alternative way might be to use [zeep](https://python-zeep.readthedocs.io/en/master/) package.    \n",
    "More details can be found at [http://turbulence.pha.jhu.edu/service/turbulence.asmx](http://turbulence.pha.jhu.edu/service/turbulence.asmx)"
   ]
  },
  {
   "cell_type": "code",
   "execution_count": 1,
   "metadata": {},
   "outputs": [
    {
     "output_type": "stream",
     "name": "stdout",
     "text": [
      "[[0.69791304 0.18984549 0.98312756]\n [0.66030775 0.82447431 0.60665934]\n [0.44492412 0.16413926 0.78635297]\n [0.56623978 0.31035107 0.99200128]\n [0.60076763 0.45920464 0.85562809]]\n"
     ]
    }
   ],
   "source": [
    "import zeep\n",
    "import numpy as np\n",
    "\n",
    "client = zeep.Client('http://turbulence.pha.jhu.edu/service/turbulence.asmx?WSDL')\n",
    "ArrayOfFloat = client.get_type('ns0:ArrayOfFloat')\n",
    "ArrayOfArrayOfFloat = client.get_type('ns0:ArrayOfArrayOfFloat')\n",
    "SpatialInterpolation = client.get_type('ns0:SpatialInterpolation')\n",
    "TemporalInterpolation = client.get_type('ns0:TemporalInterpolation')\n",
    "\n",
    "token=\"edu.jhu.pha.turbulence.testing-201406\" #replace with your own token\n",
    "\n",
    "nnp=5 #number of points\n",
    "points=np.random.rand(nnp,3)\n",
    "\n",
    "# convert to JHTDB structures\n",
    "x_coor=ArrayOfFloat(points[:,0].tolist())\n",
    "y_coor=ArrayOfFloat(points[:,1].tolist())\n",
    "z_coor=ArrayOfFloat(points[:,2].tolist())\n",
    "point=ArrayOfArrayOfFloat([x_coor,y_coor,z_coor]);\n",
    "\n",
    "print(points)"
   ]
  },
  {
   "cell_type": "markdown",
   "metadata": {},
   "source": [
    "#### In `GetData_Python`, Function_name could be  \n",
    "\n",
    "GetVelocity,            GetMagneticField,          GetVectorPotential,    \n",
    "GetVelocityGradient,    GetMagneticFieldGradient,  GetVectorPotentialGradient,    \n",
    "GetVelocityHessian,     GetMagneticHessian,        GetVectorPotentialHessian,    \n",
    "GetVelocityLaplacian,   GetMagneticFieldLaplacian, GetVectorPotentialLaplacian,    \n",
    "\n",
    "GetPressure,            GetTemperature,            GetDensity,    \n",
    "GetPressureGradient,    GetTemperatureGradient,    GetDensityGradient,    \n",
    "GetPressureHessian,     GetTemperatureHessian,     GetDensityHessian,     \n",
    "\n",
    "GetVelocityAndPressure, GetVelocityAndTemperature, GetForce, GetInvariant"
   ]
  },
  {
   "cell_type": "code",
   "execution_count": 2,
   "metadata": {},
   "outputs": [
    {
     "output_type": "stream",
     "name": "stdout",
     "text": [
      "[[  8.637329    -2.65904546   8.432873     1.28578365   6.64943171\n   -3.37380672 -10.3590059   -2.05908656 -15.2024708 ]\n [ -0.47445306  -2.15972972  -0.07220937  -0.8424782   -3.14669132\n    3.78339529  -1.62747037   3.04799342   3.60988474]\n [ -3.113433     4.86232471  -3.26763773  -1.73125684   2.799266\n    3.09434485   2.610366     2.56994748   0.3923973 ]\n [  3.71506643  -2.088277    -4.363636     8.987988    -2.26683927\n   11.9925947   -7.596671    -1.29600358  -1.69417107]\n [ -7.898257    -2.865736    -7.186355    -0.73715043   4.503267\n    5.08899641   2.10948873 -10.1792564    3.12894464]]\n"
     ]
    }
   ],
   "source": [
    "Function_name=\"GetVelocityGradient\" \n",
    "time=0.6\n",
    "number_of_component=9 # change this based on function_name, see http://turbulence.pha.jhu.edu/webquery/query.aspx\n",
    "\n",
    "result=client.service.GetData_Python(Function_name, token,\"isotropic1024coarse\", 0.6, \n",
    "                                     SpatialInterpolation(\"None_Fd4\"), TemporalInterpolation(\"None\"), point)\n",
    "result=np.array(result).reshape((-1, number_of_component))\n",
    "\n",
    "print(result)"
   ]
  },
  {
   "cell_type": "markdown",
   "metadata": {},
   "source": [
    "#### In `GetPosition_Python`, Function_name could be\n",
    "GetPosition only."
   ]
  },
  {
   "cell_type": "code",
   "execution_count": 3,
   "metadata": {},
   "outputs": [
    {
     "output_type": "stream",
     "name": "stdout",
     "text": [
      "[[0.75016856 0.14140812 0.9664028 ]\n [0.6419222  0.8090803  0.5250584 ]\n [0.43126744 0.08140305 0.75407684]\n [0.6074615  0.28498182 0.9941733 ]\n [0.7184889  0.34636086 0.7491522 ]]\n"
     ]
    }
   ],
   "source": [
    "Function_name=\"GetPosition\"\n",
    "startTime=0.1\n",
    "endTime=0.2\n",
    "dt=0.02\n",
    "number_of_component=3 # change this based on function_name, see http://turbulence.pha.jhu.edu/webquery/query.aspx\n",
    "\n",
    "result=client.service.GetPosition_Python(Function_name, token,\"isotropic1024coarse\", startTime, endTime, dt, \n",
    "                                         SpatialInterpolation(\"None\"), point)\n",
    "result=np.array(result).reshape((-1, number_of_component))\n",
    "print(result)"
   ]
  },
  {
   "cell_type": "markdown",
   "metadata": {},
   "source": [
    "#### In `GetFilter_Python`, Function_name could be    \n",
    "\n",
    "GetBoxFilter, GetBoxFilterSGSscalar, GetBoxFilterSGSvector,     \n",
    "GetBoxFilterSGSsymtensor, GetBoxFilterSGStensor, GetBoxFilterGradient."
   ]
  },
  {
   "cell_type": "code",
   "execution_count": 4,
   "metadata": {},
   "outputs": [
    {
     "name": "stdout",
     "output_type": "stream",
     "text": [
      "[[ 0.27206102 -1.30481255  0.06045016]\n",
      " [-0.12582369 -0.37959147 -1.10447919]\n",
      " [-0.8601785  -0.65143985 -0.8783631 ]\n",
      " [-0.48609233 -0.95902133 -0.22834729]\n",
      " [-0.42911473 -0.80377346  0.25465983]]\n"
     ]
    }
   ],
   "source": [
    "Function_name=\"GetBoxFilter\" #could also be\n",
    "field=\"u\"\n",
    "time=0.6\n",
    "filterwidth=0.05\n",
    "spacing=0 #spacing is only used in GetBoxFilterGradient, but always provide it.\n",
    "number_of_component=3 # change this based on function_name, see http://turbulence.pha.jhu.edu/webquery/query.aspx\n",
    "\n",
    "result=client.service.GetFilter_Python(\"GetBoxFilter\",token,\"isotropic1024coarse\", field, \n",
    "                                       time, filterwidth, SpatialInterpolation(\"None\"), point, spacing) \n",
    "result=np.array(result).reshape((-1, number_of_component))\n",
    "print(result)"
   ]
  },
  {
   "cell_type": "code",
   "execution_count": 5,
   "metadata": {},
   "outputs": [
    {
     "name": "stdout",
     "output_type": "stream",
     "text": [
      "(20, 20, 20, 3)\n"
     ]
    }
   ],
   "source": [
    "import struct\n",
    "import base64\n",
    "\n",
    "field=\"u\"\n",
    "timestep=1\n",
    "x_start=1\n",
    "y_start=1\n",
    "z_start=1\n",
    "x_end=2\n",
    "y_end=5\n",
    "z_end=8\n",
    "x_step=1\n",
    "y_step=1\n",
    "z_step=1\n",
    "filter_width=0\n",
    "    \n",
    "result=client.service.GetAnyCutoutWeb(token,\"isotropic1024coarse\", field, timestep,\n",
    "                                       x_start, y_start, z_start, x_end, y_end, z_end,\n",
    "                                      x_step, y_step, z_step, filter_width, \"\")  # put empty string for the last parameter\n",
    "\n",
    "# transfer base64 format to numpy\n",
    "number_of_component=3 # change this based on the field\n",
    "nx=len(range(x_start, x_end+1, x_step))\n",
    "ny=len(range(y_start, y_end+1, y_step))\n",
    "nz=len(range(z_start, z_end+1, z_step))\n",
    "base64_len=int(nx*ny*nz*number_of_component)\n",
    "base64_format='<'+str(base64_len)+'f'\n",
    "\n",
    "result=struct.unpack(base64_format, result)\n",
    "result=np.array(result).reshape((nz, ny, nx, number_of_component))\n",
    "print(result.shape)  # see the shape of the result and compare it with nx, ny, nz and number of component"
   ]
  },
  {
   "cell_type": "code",
   "execution_count": null,
   "metadata": {},
   "outputs": [],
   "source": []
  }
 ],
 "metadata": {
  "kernelspec": {
   "name": "python3710jvsc74a57bd00d235557d0feb0efea5d5740b2690d48a2120004fe3a587911c97a32194e2c15",
   "display_name": "Python 3.7.10 64-bit ('temp': conda)"
  },
  "language_info": {
   "codemirror_mode": {
    "name": "ipython",
    "version": 3
   },
   "file_extension": ".py",
   "mimetype": "text/x-python",
   "name": "python",
   "nbconvert_exporter": "python",
   "pygments_lexer": "ipython3",
   "version": "3.7.10"
  }
 },
 "nbformat": 4,
 "nbformat_minor": 2
}