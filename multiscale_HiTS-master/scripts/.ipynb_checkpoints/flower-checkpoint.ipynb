{
 "cells": [
  {
   "cell_type": "markdown",
   "metadata": {},
   "source": [
    "## Flower (Video)"
   ]
  },
  {
   "cell_type": "markdown",
   "metadata": {},
   "source": [
    "### created by Yuying Liu, 06/09/2020"
   ]
  },
  {
   "cell_type": "code",
   "execution_count": 1,
   "metadata": {},
   "outputs": [],
   "source": [
    "# imports\n",
    "import os\n",
    "import sys\n",
    "import cv2\n",
    "import torch\n",
    "import numpy as np\n",
    "import scipy as sp\n",
    "from tqdm.notebook import tqdm\n",
    "from matplotlib import animation\n",
    "from IPython.display import Video\n",
    "from IPython.display import HTML\n",
    "from scipy.linalg import svd\n",
    "import matplotlib.pyplot as plt\n",
    "import matplotlib.gridspec as gridspec\n",
    "\n",
    "module_path = os.path.abspath(os.path.join('../../src/'))\n",
    "if module_path not in sys.path:\n",
    "    sys.path.append(module_path)"
   ]
  },
  {
   "cell_type": "code",
   "execution_count": 2,
   "metadata": {},
   "outputs": [],
   "source": [
    "# # # # # # # # # # # # # # # # # #\n",
    "#  global constants, paths, etc.  #\n",
    "# # # # # # # # # # # # # # # # # #\n",
    "load_data = False\n",
    "load_model = False\n",
    "data_dir = '../data/Bach/'\n",
    "model_dir = '../model/Bach/'"
   ]
  },
  {
   "cell_type": "markdown",
   "metadata": {},
   "source": [
    "### process data"
   ]
  },
  {
   "cell_type": "code",
   "execution_count": 3,
   "metadata": {},
   "outputs": [],
   "source": [
    "# Video('flower.mp4')"
   ]
  },
  {
   "cell_type": "code",
   "execution_count": null,
   "metadata": {},
   "outputs": [],
   "source": [
    "# retrieve data\n",
    "cap = cv2.VideoCapture(os.path.join(data_dir, 'flower.mp4'))\n",
    "frameCount = int(cap.get(cv2.CAP_PROP_FRAME_COUNT))\n",
    "frameWidth = int(cap.get(cv2.CAP_PROP_FRAME_WIDTH))\n",
    "frameHeight = int(cap.get(cv2.CAP_PROP_FRAME_HEIGHT))\n",
    "data = np.empty((frameCount, frameHeight, frameWidth, 3), np.dtype('uint8'))\n",
    "print(data.shape)\n",
    "\n",
    "ret = True\n",
    "for i in tqdm(range(frameCount)):\n",
    "    if not ret:\n",
    "        break\n",
    "    else:\n",
    "        ret, data[i] = cap.read()\n",
    "cap.release()"
   ]
  },
  {
   "cell_type": "code",
   "execution_count": null,
   "metadata": {},
   "outputs": [],
   "source": [
    "# animation of original video\n",
    "def plot_images(img_list):\n",
    "    def init():\n",
    "        img.set_data(cv2.cvtColor(img_list[0], cv2.COLOR_BGR2RGB))\n",
    "        return (img,)\n",
    "    def animate(i):\n",
    "        img.set_data(cv2.cvtColor(img_list[i], cv2.COLOR_BGR2RGB))\n",
    "        return (img,)\n",
    "\n",
    "    fig = plt.figure(figsize=(12, 8))\n",
    "    plt.axis('off')\n",
    "    ax = fig.gca()\n",
    "    img = ax.imshow(cv2.cvtColor(img_list[0], cv2.COLOR_BGR2RGB))\n",
    "    plt.close();\n",
    "    anim = animation.FuncAnimation(fig, animate, init_func=init, frames=len(img_list), interval=20, blit=True)\n",
    "    return anim\n",
    "\n",
    "imgs = [data[i, :, :, :] for i in range(frameCount)]\n",
    "HTML(plot_images(imgs).to_html5_video())"
   ]
  },
  {
   "cell_type": "code",
   "execution_count": null,
   "metadata": {},
   "outputs": [],
   "source": [
    "# dimensionality reduction\n",
    "raw_data = data.reshape(frameCount, -1).T\n",
    "U, s, VT = svd(raw_data, full_matrices=False)\n",
    "reduced_data = U[:, :64].dot(np.diag(s[:64]).dot(VT[:64, :])).T.reshape(frameCount, frameHeight, frameWidth, 3)\n",
    "reduced_data[reduced_data < 0] = 0\n",
    "reduced_data[reduced_data > 255] = 255\n",
    "coord_dynamics = VT[:64, :]\n",
    "np.save(os.path.join(data_dir, 'data.npy'), coord_dynamics)"
   ]
  },
  {
   "cell_type": "code",
   "execution_count": null,
   "metadata": {},
   "outputs": [],
   "source": [
    "# animation of low-dim reconstructed data\n",
    "imgs = [reduced_data[i, :, :, :].astype('uint8') for i in range(frameCount)]\n",
    "reduced_anim = plot_images(imgs)\n",
    "# reduced_anim.save('flower_truth.mp4')\n",
    "HTML(reduced_anim.to_html5_video())"
   ]
  },
  {
   "cell_type": "code",
   "execution_count": null,
   "metadata": {},
   "outputs": [],
   "source": [
    "# fig = plt.figure(figsize=(12, 8))\n",
    "# plt.axis('off')\n",
    "# ax = fig.gca()\n",
    "# img = ax.imshow(cv2.cvtColor(imgs[170], cv2.COLOR_BGR2RGB))"
   ]
  },
  {
   "cell_type": "markdown",
   "metadata": {},
   "source": [
    "### coupled NNs"
   ]
  },
  {
   "cell_type": "code",
   "execution_count": null,
   "metadata": {},
   "outputs": [],
   "source": [
    "# coupled NN reconstruction\n",
    "coupled_nn_V = np.load('../../../NN_toolkit/flower_couple_pred.npy')\n",
    "coupled_nn_data = U[:, :64].dot(np.diag(s[:64]).dot(coupled_nn_V.T)).T.reshape(frameCount, frameHeight, frameWidth, 3)\n",
    "coupled_nn_data[coupled_nn_data < 0] = 0\n",
    "coupled_nn_data[coupled_nn_data > 255] = 255\n",
    "\n",
    "print(((coupled_nn_V - VT[:64, :].T)**2).mean())\n",
    "plt.figure(figsize = (16, 1))\n",
    "plt.plot(((coupled_nn_V - VT[:64, :].T)**2).mean(0))"
   ]
  },
  {
   "cell_type": "code",
   "execution_count": null,
   "metadata": {},
   "outputs": [],
   "source": [
    "# animation of reconstruction via coupled NNs\n",
    "imgs = [coupled_nn_data[i, :, :, :].astype('uint8') for i in range(frameCount)]\n",
    "coupled_anim = plot_images(imgs)\n",
    "# coupled_anim.save('flower_DENNIST_pred.mp4')\n",
    "HTML(coupled_anim.to_html5_video())"
   ]
  },
  {
   "cell_type": "code",
   "execution_count": null,
   "metadata": {},
   "outputs": [],
   "source": [
    "# fig = plt.figure(figsize=(12, 8))\n",
    "# plt.axis('off')\n",
    "# ax = fig.gca()\n",
    "# img = ax.imshow(cv2.cvtColor(imgs[170], cv2.COLOR_BGR2RGB))"
   ]
  },
  {
   "cell_type": "markdown",
   "metadata": {},
   "source": [
    "### lstm"
   ]
  },
  {
   "cell_type": "code",
   "execution_count": null,
   "metadata": {},
   "outputs": [],
   "source": [
    "# lstm reconstruction\n",
    "lstm_V = np.load('../../../NN_toolkit/flower_lstm_pred.npy')\n",
    "lstm_data = U[:, :64].dot(np.diag(s[:64]).dot(lstm_V.T)).T.reshape(frameCount, frameHeight, frameWidth, 3)\n",
    "lstm_data[lstm_data < 0] = 0\n",
    "lstm_data[lstm_data > 255] = 255\n",
    "\n",
    "print(((lstm_V - VT[:64, :].T)**2).mean())\n",
    "plt.figure(figsize = (16, 1))\n",
    "plt.plot(((lstm_V - VT[:64, :].T)**2).mean(0))"
   ]
  },
  {
   "cell_type": "code",
   "execution_count": null,
   "metadata": {},
   "outputs": [],
   "source": [
    "# animation of reconstruction via lstm\n",
    "imgs = [lstm_data[i, :, :, :].astype('uint8') for i in range(frameCount)]\n",
    "lstm_anim = plot_images(imgs)\n",
    "# lstm_anim.save('flower_LSTM_pred.mp4')\n",
    "HTML(lstm_anim.to_html5_video())"
   ]
  },
  {
   "cell_type": "code",
   "execution_count": null,
   "metadata": {},
   "outputs": [],
   "source": [
    "# fig = plt.figure(figsize=(12, 8))\n",
    "# plt.axis('off')\n",
    "# ax = fig.gca()\n",
    "# img = ax.imshow(cv2.cvtColor(imgs[170], cv2.COLOR_BGR2RGB))"
   ]
  },
  {
   "cell_type": "markdown",
   "metadata": {},
   "source": [
    "### reservoir"
   ]
  },
  {
   "cell_type": "code",
   "execution_count": null,
   "metadata": {},
   "outputs": [],
   "source": [
    "# reservoir reconstruction\n",
    "reservoir_V = np.load('../../../NN_toolkit/flower_reservoir_pred.npy')\n",
    "reservoir_data = U[:, :64].dot(np.diag(s[:64]).dot(reservoir_V.T)).T.reshape(frameCount, frameHeight, frameWidth, 3)\n",
    "reservoir_data[reservoir_data < 0] = 0\n",
    "reservoir_data[reservoir_data > 255] = 255\n",
    "\n",
    "print(((reservoir_V - VT[:64, :].T)**2).mean())\n",
    "plt.figure(figsize = (16, 1))\n",
    "plt.plot(((reservoir_V - VT[:64, :].T)**2).mean(0))"
   ]
  },
  {
   "cell_type": "code",
   "execution_count": null,
   "metadata": {},
   "outputs": [],
   "source": [
    "# animation of reconstruction via reservoir\n",
    "imgs = [reservoir_data[i, :, :, :].astype('uint8') for i in range(frameCount)]\n",
    "reservoir_anim = plot_images(imgs)\n",
    "# reservoir_anim.save('flower_Reservoir_pred.mp4')\n",
    "HTML(reservoir_anim.to_html5_video())"
   ]
  },
  {
   "cell_type": "code",
   "execution_count": null,
   "metadata": {},
   "outputs": [],
   "source": [
    "# fig = plt.figure(figsize=(12, 8))\n",
    "# plt.axis('off')\n",
    "# ax = fig.gca()\n",
    "# img = ax.imshow(cv2.cvtColor(imgs[170], cv2.COLOR_BGR2RGB))"
   ]
  },
  {
   "cell_type": "markdown",
   "metadata": {},
   "source": [
    "### cwrnn"
   ]
  },
  {
   "cell_type": "code",
   "execution_count": null,
   "metadata": {},
   "outputs": [],
   "source": [
    "# cwrnn reconstruction\n",
    "cwrnn_V = np.load('../../../NN_toolkit/flower_cwrnn_pred.npy')\n",
    "cwrnn_data = U[:, :64].dot(np.diag(s[:64]).dot(cwrnn_V.T)).T.reshape(frameCount, frameHeight, frameWidth, 3)\n",
    "cwrnn_data[cwrnn_data < 0] = 0\n",
    "cwrnn_data[cwrnn_data > 255] = 255\n",
    "\n",
    "print(((cwrnn_V - VT[:64, :].T)**2).mean())\n",
    "plt.figure(figsize = (16, 1))\n",
    "plt.plot(((cwrnn_V - VT[:64, :].T)**2).mean(0))"
   ]
  },
  {
   "cell_type": "code",
   "execution_count": null,
   "metadata": {},
   "outputs": [],
   "source": [
    "# animation of reconstruction via cwrnn\n",
    "imgs = [cwrnn_data[i, :, :, :].astype('uint8') for i in range(frameCount)]\n",
    "cwrnn_anim = plot_images(imgs)\n",
    "# cwrnn_anim.save('flower_CWRNN_pred.mp4')\n",
    "HTML(cwrnn_anim.to_html5_video())"
   ]
  },
  {
   "cell_type": "code",
   "execution_count": null,
   "metadata": {},
   "outputs": [],
   "source": [
    "# fig = plt.figure(figsize=(12, 8))\n",
    "# plt.axis('off')\n",
    "# ax = fig.gca()\n",
    "# img = ax.imshow(cv2.cvtColor(imgs[170], cv2.COLOR_BGR2RGB))"
   ]
  },
  {
   "cell_type": "code",
   "execution_count": null,
   "metadata": {},
   "outputs": [],
   "source": []
  },
  {
   "cell_type": "code",
   "execution_count": null,
   "metadata": {},
   "outputs": [],
   "source": []
  },
  {
   "cell_type": "code",
   "execution_count": null,
   "metadata": {},
   "outputs": [],
   "source": []
  },
  {
   "cell_type": "code",
   "execution_count": null,
   "metadata": {},
   "outputs": [],
   "source": []
  }
 ],
 "metadata": {
  "kernelspec": {
   "display_name": "Python 3",
   "language": "python",
   "name": "python3"
  },
  "language_info": {
   "codemirror_mode": {
    "name": "ipython",
    "version": 3
   },
   "file_extension": ".py",
   "mimetype": "text/x-python",
   "name": "python",
   "nbconvert_exporter": "python",
   "pygments_lexer": "ipython3",
   "version": "3.6.5"
  }
 },
 "nbformat": 4,
 "nbformat_minor": 2
}
