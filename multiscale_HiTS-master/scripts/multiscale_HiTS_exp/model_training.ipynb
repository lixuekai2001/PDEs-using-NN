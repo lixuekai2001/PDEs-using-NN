{
 "cells": [
  {
   "cell_type": "markdown",
   "metadata": {},
   "source": [
    "## Train ResNets"
   ]
  },
  {
   "cell_type": "markdown",
   "metadata": {},
   "source": [
    "### created by Yuying Liu, 04/30/2020"
   ]
  },
  {
   "cell_type": "markdown",
   "metadata": {},
   "source": [
    "This script is a template for training neural network time-steppers for different systems and different time scales. To reproduce the results in the paper, one needs to obtain all 11 neural network models for each nonlinear system under study. For setup details, please refer to Table 2 in the paper."
   ]
  },
  {
   "cell_type": "code",
   "execution_count": 5,
   "metadata": {},
   "outputs": [],
   "source": [
    "import os\n",
    "import sys\n",
    "import torch\n",
    "import numpy as np\n",
    "\n",
    "module_path = os.path.abspath(os.path.join('../../src/'))\n",
    "if module_path not in sys.path:\n",
    "    sys.path.append(module_path)\n",
    "    \n",
    "import ResNet as net"
   ]
  },
  {
   "cell_type": "code",
   "execution_count": 6,
   "metadata": {},
   "outputs": [],
   "source": [
    "# adjustables\n",
    "\n",
    "k = 10                        # model index: should be in {0, 2, ..., 10}\n",
    "dt = 0.01                     # time unit: 0.0005 for Lorenz and 0.01 for others\n",
    "system = 'Hyperbolic'         # system name: 'Hyperbolic', 'Cubic', 'VanDerPol', 'Hopf' or 'Lorenz'\n",
    "noise = 0.0                   # noise percentage: 0.00, 0.01 or 0.02\n",
    "\n",
    "lr = 1e-3                     # learning rate\n",
    "max_epoch = 500000            # the maximum training epoch \n",
    "batch_size = 320              # training batch size\n",
    "arch = [2, 128, 128, 128, 2]  # architecture of the neural network"
   ]
  },
  {
   "cell_type": "code",
   "execution_count": 12,
   "metadata": {},
   "outputs": [],
   "source": [
    "# paths\n",
    "data_dir = os.path.join('data/', system)\n",
    "model_dir = os.path.join('models/', system)\n",
    "\n",
    "# global const\n",
    "n_forward = 5\n",
    "ks = list(range(11))\n",
    "step_size = 2**0#[2**k for k in ks]"
   ]
  },
  {
   "cell_type": "code",
   "execution_count": 13,
   "metadata": {},
   "outputs": [],
   "source": [
    "# load data\n",
    "train_data = np.load(os.path.join(data_dir, 'train_noise{}.npy'.format(noise)))\n",
    "val_data = np.load(os.path.join(data_dir, 'val_noise{}.npy'.format(noise)))\n",
    "test_data = np.load(os.path.join(data_dir, 'test_noise{}.npy'.format(noise)))\n",
    "n_train = train_data.shape[0]\n",
    "n_val = val_data.shape[0]\n",
    "n_test = test_data.shape[0]\n",
    "\n",
    "# create dataset object\n",
    "dataset = net.DataSet(train_data, val_data, test_data, dt, step_size, n_forward)"
   ]
  },
  {
   "cell_type": "code",
   "execution_count": 14,
   "metadata": {
    "tags": []
   },
   "outputs": [
    {
     "output_type": "stream",
     "name": "stdout",
     "text": [
      "create model model_D1_noise0.0.pt ...\n",
      "epoch 1000, training loss 4.034102971672837e-07, validation loss 5.656399935105583e-07\n",
      "(--> new model saved @ epoch 1000)\n",
      "epoch 2000, training loss 2.451866407682246e-07, validation loss 3.0321589861159737e-07\n",
      "(--> new model saved @ epoch 2000)\n",
      "epoch 3000, training loss 4.7545958636874275e-07, validation loss 5.787879899799009e-07\n",
      "epoch 4000, training loss 4.7593735530426784e-07, validation loss 5.614136284748383e-07\n",
      "epoch 5000, training loss 2.749507075350266e-07, validation loss 2.979831208449468e-07\n",
      "(--> new model saved @ epoch 5000)\n",
      "epoch 6000, training loss 8.04062452175458e-08, validation loss 1.0738859401726586e-07\n",
      "(--> new model saved @ epoch 6000)\n",
      "epoch 7000, training loss 1.4594854746974306e-06, validation loss 1.446823830519861e-06\n",
      "epoch 8000, training loss 6.284055302785418e-07, validation loss 6.253319497773191e-07\n",
      "epoch 9000, training loss 2.5177821498800768e-06, validation loss 2.5279121018684236e-06\n",
      "epoch 10000, training loss 9.716604836285114e-07, validation loss 1.0141965276488918e-06\n",
      "epoch 11000, training loss 5.011990538150712e-07, validation loss 5.266618359200947e-07\n",
      "epoch 12000, training loss 3.317127834634448e-07, validation loss 3.4030009032903763e-07\n",
      "epoch 13000, training loss 6.517864648003524e-08, validation loss 7.000425483738582e-08\n",
      "(--> new model saved @ epoch 13000)\n",
      "epoch 14000, training loss 4.7065236685739364e-07, validation loss 4.788984142578556e-07\n",
      "epoch 15000, training loss 4.222680445309379e-07, validation loss 4.041951626732043e-07\n",
      "epoch 16000, training loss 4.629863781246968e-08, validation loss 4.96571672670143e-08\n",
      "(--> new model saved @ epoch 16000)\n",
      "epoch 17000, training loss 2.2284394773919303e-08, validation loss 2.601776394328681e-08\n",
      "(--> new model saved @ epoch 17000)\n",
      "epoch 18000, training loss 3.354560718094035e-08, validation loss 3.7619326320736945e-08\n",
      "epoch 19000, training loss 2.934185658887145e-07, validation loss 2.935229872491618e-07\n",
      "epoch 20000, training loss 8.679176488612939e-08, validation loss 8.731959866281613e-08\n",
      "epoch 21000, training loss 3.976584039833142e-08, validation loss 4.168673584103999e-08\n",
      "epoch 22000, training loss 2.7576442107601906e-07, validation loss 2.8492229375842726e-07\n",
      "epoch 23000, training loss 5.766496258274856e-08, validation loss 5.9575203437134405e-08\n",
      "epoch 24000, training loss 2.036676072236787e-08, validation loss 2.182774494485784e-08\n",
      "(--> new model saved @ epoch 24000)\n",
      "epoch 25000, training loss 5.661682234148202e-09, validation loss 7.996020734424292e-09\n",
      "(--> new model saved @ epoch 25000)\n",
      "--> model has reached an accuracy of 1e-8! Finished training!\n",
      "--> new model saved @ epoch 25001\n"
     ]
    }
   ],
   "source": [
    "model_name = 'model_D{}_noise{}.pt'.format(step_size, noise)\n",
    "\n",
    "# create/load model object\n",
    "try:\n",
    "    device = 'cuda' if torch.cuda.is_available() else 'cpu'\n",
    "    model = torch.load(os.path.join(model_dir, model_name), map_location=device)\n",
    "    model.device = device\n",
    "except:\n",
    "    print('create model {} ...'.format(model_name))\n",
    "    model = net.ResNet(arch=arch, dt=dt, step_size=step_size)\n",
    "\n",
    "# training\n",
    "model.train_net(dataset, max_epoch=max_epoch, batch_size=batch_size, lr=lr,\n",
    "                model_path=os.path.join(model_dir, model_name))"
   ]
  },
  {
   "cell_type": "code",
   "execution_count": null,
   "metadata": {},
   "outputs": [],
   "source": []
  },
  {
   "cell_type": "code",
   "execution_count": null,
   "metadata": {},
   "outputs": [],
   "source": []
  },
  {
   "cell_type": "code",
   "execution_count": null,
   "metadata": {},
   "outputs": [],
   "source": []
  },
  {
   "cell_type": "code",
   "execution_count": null,
   "metadata": {},
   "outputs": [],
   "source": []
  },
  {
   "cell_type": "code",
   "execution_count": null,
   "metadata": {},
   "outputs": [],
   "source": []
  }
 ],
 "metadata": {
  "kernelspec": {
   "name": "python3710jvsc74a57bd00d235557d0feb0efea5d5740b2690d48a2120004fe3a587911c97a32194e2c15",
   "display_name": "Python 3.7.10 64-bit ('temp': conda)"
  },
  "language_info": {
   "codemirror_mode": {
    "name": "ipython",
    "version": 3
   },
   "file_extension": ".py",
   "mimetype": "text/x-python",
   "name": "python",
   "nbconvert_exporter": "python",
   "pygments_lexer": "ipython3",
   "version": "3.7.10"
  }
 },
 "nbformat": 4,
 "nbformat_minor": 2
}