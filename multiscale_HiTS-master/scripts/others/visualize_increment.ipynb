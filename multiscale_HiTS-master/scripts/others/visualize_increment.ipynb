{
 "cells": [
  {
   "cell_type": "markdown",
   "metadata": {},
   "source": [
    "## effective increment"
   ]
  },
  {
   "cell_type": "markdown",
   "metadata": {},
   "source": [
    "### created by Yuying Liu, 04/29/2020"
   ]
  },
  {
   "cell_type": "markdown",
   "metadata": {},
   "source": [
    "For autonomous system \n",
    "\\begin{equation}\n",
    "    \\bf{\\dot{x} = f(x)}\n",
    "\\end{equation}\n",
    "\n",
    "we visualize \n",
    "\\begin{equation}\n",
    "    F_{\\Delta}(x(t)):= x(t+\\Delta)-x(t)\n",
    "\\end{equation}\n",
    "\n",
    "This script can be used to visualize Figure 10."
   ]
  },
  {
   "cell_type": "code",
   "execution_count": 1,
   "metadata": {},
   "outputs": [],
   "source": [
    "%matplotlib inline\n",
    "\n",
    "import numpy as np\n",
    "from scipy import integrate\n",
    "\n",
    "from tqdm.notebook import tqdm\n",
    "from matplotlib import pyplot as plt\n",
    "from matplotlib import gridspec\n",
    "from mpl_toolkits.mplot3d import Axes3D\n",
    "from matplotlib.colors import cnames\n",
    "from matplotlib import animation\n",
    "from ipywidgets import interact, interactive\n",
    "from IPython.display import clear_output, display, HTML"
   ]
  },
  {
   "cell_type": "code",
   "execution_count": 2,
   "metadata": {},
   "outputs": [],
   "source": [
    "# shared parameters\n",
    "max_time = 10.24\n",
    "dt = 0.16\n",
    "t = np.linspace(0, max_time, int(max_time/dt)+1)"
   ]
  },
  {
   "cell_type": "markdown",
   "metadata": {},
   "source": [
    "### Hyperbolic Fixed Point"
   ]
  },
  {
   "cell_type": "markdown",
   "metadata": {},
   "source": [
    "\\begin{split}\n",
    "    \\dot{x} &= \\mu x \\\\\n",
    "    \\dot{y} &= \\lambda(y-x^2)     \n",
    "\\end{split}"
   ]
  },
  {
   "cell_type": "code",
   "execution_count": 4,
   "metadata": {},
   "outputs": [
    {
     "data": {
      "application/vnd.jupyter.widget-view+json": {
       "model_id": "817dbfa618734df2af7099cbd962971a",
       "version_major": 2,
       "version_minor": 0
      },
      "text/plain": [
       "HBox(children=(FloatProgress(value=0.0), HTML(value='')))"
      ]
     },
     "metadata": {},
     "output_type": "display_data"
    },
    {
     "name": "stdout",
     "output_type": "stream",
     "text": [
      "\n"
     ]
    },
    {
     "data": {
      "application/vnd.jupyter.widget-view+json": {
       "model_id": "4601d0940dd84150b0b3d9d6a1c22afd",
       "version_major": 2,
       "version_minor": 0
      },
      "text/plain": [
       "HBox(children=(FloatProgress(value=0.0, max=64.0), HTML(value='')))"
      ]
     },
     "metadata": {},
     "output_type": "display_data"
    },
    {
     "name": "stdout",
     "output_type": "stream",
     "text": [
      "\n"
     ]
    },
    {
     "data": {
      "application/vnd.jupyter.widget-view+json": {
       "model_id": "8f26ed2c09e94de4bc3485cd6daa8147",
       "version_major": 2,
       "version_minor": 0
      },
      "text/plain": [
       "interactive(children=(FloatSlider(value=10.24, description='time', max=10.24, min=0.16, step=0.16), Output()),…"
      ]
     },
     "metadata": {},
     "output_type": "display_data"
    }
   ],
   "source": [
    "mu = -0.05\n",
    "lam = -1.0\n",
    "def hyperbolic_deriv(x_y):\n",
    "        \"\"\"Compute the time-derivative of the hyperbolic example.\"\"\"\n",
    "        x, y = x_y\n",
    "        return [mu*x, lam*(y-x**2)]\n",
    "    \n",
    "# simulate\n",
    "xvalues, yvalues = np.meshgrid(np.arange(-1.0,1.0,0.02), np.arange(-1.0,1.0,0.02))\n",
    "inits = np.stack([xvalues, yvalues], 2)\n",
    "sols = np.zeros((inits.shape[0], inits.shape[1], len(t), 2))\n",
    "for i in tqdm(range(inits.shape[0])):\n",
    "    for j in range(inits.shape[1]):\n",
    "        init = inits[i, j]\n",
    "        sol = integrate.solve_ivp(lambda _, x: hyperbolic_deriv(x), [0, max_time], init, t_eval=t)\n",
    "        sols[i, j, :, :] = sol.y.T\n",
    "\n",
    "# compute increments\n",
    "vmin0 = [float('inf')]*2\n",
    "vmax0 = [float('-inf')]*2\n",
    "incre0 = np.zeros((inits.shape[0], inits.shape[1], len(t)-1, 2))\n",
    "for i in tqdm(range(1, len(t))):\n",
    "    for j in range(2):\n",
    "        vmin0[j] = min(np.min(sols[:, :, i, j] - sols[:, :, 0, j]), vmin0[j])\n",
    "        vmax0[j] = max(np.max(sols[:, :, i, j] - sols[:, :, 0, j]), vmax0[j])\n",
    "    incre0[:, :, i-1, :] = sols[:, :, i, :] - sols[:, :, 0, :]\n",
    "\n",
    "def viz_cubic_increment(time=25):\n",
    "    fig = plt.figure(figsize=(10, 16))\n",
    "    gs = gridspec.GridSpec(nrows=2, ncols=1, hspace=0.2)\n",
    "    ax0 = fig.add_subplot(gs[0, :])\n",
    "    ax1 = fig.add_subplot(gs[1, :])\n",
    "\n",
    "    # prepare the axes limits\n",
    "    ax0.set_xlim((-2, 2))\n",
    "    ax0.set_ylim((-2, 2))\n",
    "    ax1.set_xlim((-2, 2))\n",
    "    ax1.set_ylim((-2, 2))\n",
    "\n",
    "    # plot\n",
    "    idx = int(time/dt)-1\n",
    "    im0 = ax0.imshow(incre0[:, :, idx, 0], extent=[-2,2,-2,2], vmin=vmin0[0], vmax=vmax0[1])\n",
    "    im1 = ax1.imshow(incre0[:, :, idx, 1], extent=[-2,2,-2,2], vmin=vmin0[0], vmax=vmax0[1])\n",
    "    \n",
    "    # colorbar\n",
    "    cbar0 = fig.colorbar(im0, ax=ax0, aspect=5)\n",
    "    cbar1 = fig.colorbar(im1, ax=ax1, aspect=5)\n",
    "    cbar0.ax.tick_params(labelsize=60)\n",
    "    cbar1.ax.tick_params(labelsize=60)\n",
    "\n",
    "    # title\n",
    "    ax0.set_title('x', fontsize=50)\n",
    "    ax1.set_title('y', fontsize=50)\n",
    "    \n",
    "    # ticks\n",
    "    ax0.tick_params(axis='both', which='major', labelsize=60)\n",
    "    ax1.tick_params(axis='both', which='major', labelsize=60)\n",
    "    ax0.axis('off')\n",
    "    ax1.axis('off')\n",
    "    \n",
    "    return t, fig\n",
    "\n",
    "# viz\n",
    "w0 = interactive(viz_cubic_increment, time=(dt, max_time, dt))\n",
    "display(w0)"
   ]
  },
  {
   "cell_type": "markdown",
   "metadata": {},
   "source": [
    "### Cubic Oscillator"
   ]
  },
  {
   "cell_type": "markdown",
   "metadata": {},
   "source": [
    "\\begin{split}\n",
    "    \\dot{x} &= -0.1x^3 + 2y^3 \\\\\n",
    "    \\dot{y} &= -2x^3 - 0.1y^3\n",
    "\\end{split}"
   ]
  },
  {
   "cell_type": "code",
   "execution_count": null,
   "metadata": {},
   "outputs": [],
   "source": [
    "def cubic_deriv(x_y):\n",
    "        \"\"\"Compute the time-derivative of the cubic oscillator.\"\"\"\n",
    "        x, y = x_y\n",
    "        return [-0.1*x**3+2*y**3, -2*x**3-0.1*y**3]\n",
    "    \n",
    "# simulate\n",
    "xvalues, yvalues = np.meshgrid(np.arange(-1.0,1.0,0.02), np.arange(-1.0,1.0,0.02))\n",
    "inits = np.stack([xvalues, yvalues], 2)\n",
    "sols = np.zeros((inits.shape[0], inits.shape[1], len(t), 2))\n",
    "for i in tqdm(range(inits.shape[0])):\n",
    "    for j in range(inits.shape[1]):\n",
    "        init = inits[i, j]\n",
    "        sol = integrate.solve_ivp(lambda _, x: cubic_deriv(x), [0, max_time], init, t_eval=t)\n",
    "        sols[i, j, :, :] = sol.y.T\n",
    "\n",
    "# compute increments\n",
    "vmin1 = [float('inf')]*2\n",
    "vmax1 = [float('-inf')]*2\n",
    "incre1 = np.zeros((inits.shape[0], inits.shape[1], len(t)-1, 2))\n",
    "for i in tqdm(range(1, len(t))):\n",
    "    for j in range(2):\n",
    "        vmin1[j] = min(np.min(sols[:, :, i, j] - sols[:, :, 0, j]), vmin1[j])\n",
    "        vmax1[j] = max(np.max(sols[:, :, i, j] - sols[:, :, 0, j]), vmax1[j])\n",
    "    incre1[:, :, i-1, :] = sols[:, :, i, :] - sols[:, :, 0, :]\n",
    "\n",
    "def viz_cubic_increment(time=25):\n",
    "    fig = plt.figure(figsize=(10, 16))\n",
    "    gs = gridspec.GridSpec(nrows=2, ncols=1, hspace=0.2)\n",
    "    ax0 = fig.add_subplot(gs[0, :])\n",
    "    ax1 = fig.add_subplot(gs[1, :])\n",
    "    \n",
    "    # prepare the axes limits\n",
    "    ax0.set_xlim((-1, 1))\n",
    "    ax0.set_ylim((-1, 1))\n",
    "    ax1.set_xlim((-1, 1))\n",
    "    ax1.set_ylim((-1, 1))\n",
    "\n",
    "    # plot\n",
    "    idx = int(time/dt)-1\n",
    "    im0 = ax0.imshow(incre1[:, :, idx, 0], extent=[-1,1,-1,1], vmin=vmin1[0], vmax=vmax1[1])\n",
    "    im1 = ax1.imshow(incre1[:, :, idx, 1], extent=[-1,1,-1,1], vmin=vmin1[0], vmax=vmax1[1])\n",
    "    \n",
    "    # colorbar\n",
    "    cbar0 = fig.colorbar(im0, ax=ax0, aspect=5)\n",
    "    cbar1 = fig.colorbar(im1, ax=ax1, aspect=5)\n",
    "    cbar0.ax.tick_params(labelsize=60)\n",
    "    cbar1.ax.tick_params(labelsize=60)\n",
    "\n",
    "    # title\n",
    "    ax0.set_title('x', fontsize=50)\n",
    "    ax1.set_title('y', fontsize=50)\n",
    "    \n",
    "    # ticks\n",
    "    ax0.tick_params(axis='both', which='major', labelsize=60)\n",
    "    ax1.tick_params(axis='both', which='major', labelsize=60)\n",
    "    ax0.axis('off')\n",
    "    ax1.axis('off')\n",
    "    \n",
    "    return t, fig\n",
    "\n",
    "# viz\n",
    "w1 = interactive(viz_cubic_increment, time=(dt, max_time, dt))\n",
    "display(w1)"
   ]
  },
  {
   "cell_type": "markdown",
   "metadata": {},
   "source": [
    "### Van der Pol Oscillator"
   ]
  },
  {
   "cell_type": "markdown",
   "metadata": {},
   "source": [
    "\\begin{split}\n",
    "    \\dot{x} &= y \\\\\n",
    "    \\dot{y} &= \\mu(1-x^2)y - x   \n",
    "\\end{split}\n",
    "\n",
    "where $\\mu=2.0$"
   ]
  },
  {
   "cell_type": "code",
   "execution_count": null,
   "metadata": {},
   "outputs": [],
   "source": [
    "mu = 2.0\n",
    "def vdp_deriv(x_y):\n",
    "        \"\"\"Compute the time-derivative of the vdp.\"\"\"\n",
    "        x, y = x_y\n",
    "        return [y, mu*(1-x**2)*y-x]\n",
    "    \n",
    "# simulate\n",
    "xvalues, yvalues = np.meshgrid(np.arange(-2.0,2.0,0.02), np.arange(-1.0,1.0,0.01))\n",
    "inits = np.stack([xvalues, yvalues], 2)\n",
    "sols = np.zeros((inits.shape[0], inits.shape[1], len(t), 2))\n",
    "for i in tqdm(range(inits.shape[0])):\n",
    "    for j in range(inits.shape[1]):\n",
    "        init = inits[i, j]\n",
    "        sol = integrate.solve_ivp(lambda _, x: vdp_deriv(x), [0, max_time], init, t_eval=t)\n",
    "        sols[i, j, :, :] = sol.y.T\n",
    "\n",
    "# compute increments\n",
    "vmin2 = [float('inf')]*2\n",
    "vmax2 = [float('-inf')]*2\n",
    "incre2 = np.zeros((inits.shape[0], inits.shape[1], len(t)-1, 2))\n",
    "for i in tqdm(range(1, len(t))):\n",
    "    for j in range(2):\n",
    "        vmin2[j] = min(np.min(sols[:, :, i, j] - sols[:, :, 0, j]), vmin2[j])\n",
    "        vmax2[j] = max(np.max(sols[:, :, i, j] - sols[:, :, 0, j]), vmax2[j])\n",
    "    incre2[:, :, i-1, :] = sols[:, :, i, :] - sols[:, :, 0, :]\n",
    "\n",
    "def viz_vdp_increment(time=25):\n",
    "    fig = plt.figure(figsize=(10, 16))\n",
    "    gs = gridspec.GridSpec(nrows=2, ncols=1, hspace=0.2)\n",
    "    ax0 = fig.add_subplot(gs[0, :])\n",
    "    ax1 = fig.add_subplot(gs[1, :])\n",
    "\n",
    "    # prepare the axes limits\n",
    "    ax0.set_xlim((-2, 2))\n",
    "    ax0.set_ylim((-1, 1))\n",
    "    ax1.set_xlim((-2, 2))\n",
    "    ax1.set_ylim((-1, 1))\n",
    "\n",
    "    # plot\n",
    "    idx = int(time/dt)-1\n",
    "    im0 = ax0.imshow(incre2[:, :, idx, 0], extent=[-2,2,-1,1], vmin=vmin2[0], vmax=vmax2[0], aspect=2)\n",
    "    im1 = ax1.imshow(incre2[:, :, idx, 1], extent=[-2,2,-1,1], vmin=vmin2[1], vmax=vmax2[1], aspect=2)\n",
    "    \n",
    "    # colorbar\n",
    "    cbar0 = fig.colorbar(im0, ax=ax0, aspect=5)\n",
    "    cbar1 = fig.colorbar(im1, ax=ax1, aspect=5)\n",
    "    cbar0.ax.tick_params(labelsize=60)\n",
    "    cbar1.ax.tick_params(labelsize=60)\n",
    "    \n",
    "    # title\n",
    "    ax0.set_title('x', fontsize=50)\n",
    "    ax1.set_title('y', fontsize=50)\n",
    "    \n",
    "    # ticks\n",
    "    ax0.tick_params(axis='both', which='major', labelsize=60)\n",
    "    ax1.tick_params(axis='both', which='major', labelsize=60)\n",
    "    ax0.axis('off')\n",
    "    ax1.axis('off')\n",
    "\n",
    "    return t, fig\n",
    "\n",
    "# viz\n",
    "w2 = interactive(viz_vdp_increment, time=(dt, max_time, dt))\n",
    "display(w2)"
   ]
  },
  {
   "cell_type": "markdown",
   "metadata": {},
   "source": [
    "### Hopf bifurcation"
   ]
  },
  {
   "cell_type": "markdown",
   "metadata": {},
   "source": [
    "\\begin{split}\n",
    "    \\dot{\\mu} &= 0 \\\\\n",
    "    \\dot{x} &= \\mu x + y -x(x^2+y^2) \\\\\n",
    "    \\dot{y} &= \\mu y - x -y(x^2+y^2)\n",
    "\\end{split}"
   ]
  },
  {
   "cell_type": "code",
   "execution_count": null,
   "metadata": {},
   "outputs": [],
   "source": [
    "def hopf_deriv(mu_x_y):\n",
    "    \"\"\"Compute the time-derivative of the hopf\"\"\"\n",
    "    mu, x, y = mu_x_y\n",
    "    return np.array([0, mu*x+y-x*(x**2+y**2), -x+mu*y-y*(x**2+y**2)])\n",
    "    \n",
    "# simulate\n",
    "muvalues, xvalues, yvalues = np.meshgrid(np.arange(-0.2,0.6,0.1), np.arange(-1,2,0.02), np.arange(-1,1,0.02), indexing='ij')\n",
    "inits = np.stack([muvalues, xvalues, yvalues], 3)\n",
    "sols = np.zeros((inits.shape[0], inits.shape[1], inits.shape[2], len(t), 3))\n",
    "for i in tqdm(range(inits.shape[0])):\n",
    "    for j in range(inits.shape[1]):\n",
    "        for k in range(inits.shape[2]):\n",
    "            init = inits[i, j, k, :]\n",
    "            sol = integrate.solve_ivp(lambda _, x: hopf_deriv(x), [0, max_time], init, t_eval=t)\n",
    "            sols[i, j, k, :, :] = sol.y.T\n",
    "\n",
    "# compute increments\n",
    "vmin3 = [float('inf')]*3\n",
    "vmax3 = [float('-inf')]*3\n",
    "incre3 = np.zeros((inits.shape[0], inits.shape[1], inits.shape[2], len(t)-1, 3))\n",
    "for i in tqdm(range(1, len(t))):\n",
    "    for j in range(3):\n",
    "        vmin3[j] = min(np.min(sols[:, :, :, i, j] - sols[:, :, :, 0, j]), vmin3[j])\n",
    "        vmax3[j] = max(np.max(sols[:, :, :, i, j] - sols[:, :, :, 0, j]), vmax3[j])\n",
    "    incre3[:, :, :, i-1, :] = sols[:, :, :, i, :] - sols[:, :, :, 0, :]\n",
    "\n",
    "def viz_hopf_increment(time=25, mu=0):\n",
    "    fig = plt.figure(figsize=(10, 24))\n",
    "    gs = gridspec.GridSpec(nrows=3, ncols=1, hspace=0.2)\n",
    "    ax0 = fig.add_subplot(gs[0, :])\n",
    "    ax1 = fig.add_subplot(gs[1, :])\n",
    "    ax2 = fig.add_subplot(gs[2, :])\n",
    "\n",
    "    # prepare the axes limits\n",
    "    ax0.set_xlim((-1, 2))\n",
    "    ax0.set_ylim((-1, 1))\n",
    "    ax1.set_xlim((-1, 2))\n",
    "    ax1.set_ylim((-1, 1))\n",
    "    ax2.set_xlim((-1, 2))\n",
    "    ax2.set_ylim((-1, 1))\n",
    "\n",
    "    # plot\n",
    "    idx_t = int(time/dt)-1\n",
    "    idx_mu = min(int((mu + 0.2) / 0.1), len(np.arange(-0.2,0.6,0.1))-1)\n",
    "    im0 = ax0.imshow(incre3[:, :, idx_mu, idx_t, 0], extent=[-1,2,-1,1], vmin=vmin3[0], vmax=vmax3[0], aspect=1.5)\n",
    "    im1 = ax1.imshow(incre3[:, :, idx_mu, idx_t, 1], extent=[-1,2,-1,1], vmin=vmin3[1], vmax=vmax3[1], aspect=1.5)\n",
    "    im2 = ax2.imshow(incre3[:, :, idx_mu, idx_t, 2], extent=[-1,2,-1,1], vmin=vmin3[2], vmax=vmax3[2], aspect=1.5)\n",
    "    \n",
    "    # colorbar\n",
    "    cbar0 = fig.colorbar(im0, ax=ax0, aspect=5)\n",
    "    cbar1 = fig.colorbar(im1, ax=ax1, aspect=5)\n",
    "    cbar2 = fig.colorbar(im2, ax=ax2, aspect=5)\n",
    "    cbar0.ax.tick_params(labelsize=60)\n",
    "    cbar1.ax.tick_params(labelsize=60)\n",
    "    cbar2.ax.tick_params(labelsize=60)\n",
    "    \n",
    "    # title\n",
    "    ax0.set_title('$\\mu$', fontsize=50)\n",
    "    ax1.set_title('x', fontsize=50)\n",
    "    ax2.set_title('y', fontsize=50)\n",
    "    \n",
    "    # ticks\n",
    "    ax0.tick_params(axis='both', which='major', labelsize=60)\n",
    "    ax1.tick_params(axis='both', which='major', labelsize=60)\n",
    "    ax2.tick_params(axis='both', which='major', labelsize=60)\n",
    "    ax0.axis('off')\n",
    "    ax1.axis('off')\n",
    "    ax2.axis('off')\n",
    "\n",
    "    return t, fig\n",
    "\n",
    "# viz\n",
    "w3 = interactive(viz_hopf_increment, time=(dt, max_time, dt), mu=(-0.2,0.6,0.1))\n",
    "display(w3)"
   ]
  },
  {
   "cell_type": "markdown",
   "metadata": {},
   "source": [
    "### Lorenz"
   ]
  },
  {
   "cell_type": "markdown",
   "metadata": {},
   "source": [
    "\\begin{split}\n",
    "    \\dot{x} &= \\sigma(y-x) \\\\\n",
    "    \\dot{y} &= x(\\rho-z)-y \\\\\n",
    "    \\dot{z} &= xy - \\beta z    \n",
    "\\end{split}\n",
    "\n",
    "where $\\sigma=10, \\rho=28, \\beta=8/3$"
   ]
  },
  {
   "cell_type": "code",
   "execution_count": null,
   "metadata": {},
   "outputs": [],
   "source": [
    "sigma = 10\n",
    "rho = 28\n",
    "beta = 8/3\n",
    "def lorenz_deriv(x_y_z):\n",
    "        \"\"\"Compute the time-derivative of the lorenz system.\"\"\"\n",
    "        x, y, z = x_y_z\n",
    "        return [sigma*(y-x), x*(rho-z)-y, x*y-beta*z]\n",
    "    \n",
    "# simulate\n",
    "xvalues, yvalues, zvalues = np.meshgrid(np.arange(-9,-7,0.02), np.arange(6,8,0.02), np.arange(26,28,0.5), indexing='ij')\n",
    "inits = np.stack([xvalues, yvalues, zvalues], 3)\n",
    "sols = np.zeros((inits.shape[0], inits.shape[1], inits.shape[2], len(t), 3))\n",
    "for i in tqdm(range(inits.shape[0])):\n",
    "    for j in range(inits.shape[1]):\n",
    "        for k in range(inits.shape[2]):\n",
    "            init = inits[i, j, k, :]\n",
    "            sol = integrate.solve_ivp(lambda _, x: lorenz_deriv(x), [0, max_time], init, t_eval=t)\n",
    "            sols[i, j, k, :, :] = sol.y.T\n",
    "\n",
    "# compute increments\n",
    "vmin4 = [float('inf')]*3\n",
    "vmax4 = [float('-inf')]*3\n",
    "incre4 = np.zeros((inits.shape[0], inits.shape[1], inits.shape[2], len(t)-1, 3))\n",
    "for i in tqdm(range(1, len(t))):\n",
    "    for j in range(3):\n",
    "        vmin4[j] = min(np.min(sols[:, :, :, i, j] - sols[:, :, :, 0, j]), vmin4[j])\n",
    "        vmax4[j] = max(np.max(sols[:, :, :, i, j] - sols[:, :, :, 0, j]), vmax4[j])\n",
    "    incre4[:, :, :, i-1, :] = sols[:, :, :, i, :] - sols[:, :, :, 0, :]\n",
    "\n",
    "def viz_lorenz_increment(time=5, z=0):\n",
    "    fig = plt.figure(figsize=(10, 24))\n",
    "    gs = gridspec.GridSpec(nrows=3, ncols=1, hspace=0.2)\n",
    "    ax0 = fig.add_subplot(gs[0, :])\n",
    "    ax1 = fig.add_subplot(gs[1, :])\n",
    "    ax2 = fig.add_subplot(gs[2, :])\n",
    "\n",
    "    # prepare the axes limits\n",
    "    ax0.set_xlim((-9, -7))\n",
    "    ax0.set_ylim((6, 8))\n",
    "    ax1.set_xlim((-9, -7))\n",
    "    ax1.set_ylim((6, 8))\n",
    "    ax2.set_xlim((-9, -7))\n",
    "    ax2.set_ylim((6, 8))\n",
    "\n",
    "    # plot\n",
    "    idx_t = int(time/dt)-1\n",
    "    idx_z = min(int((z - 26)/0.5), len(np.arange(26,28,0.1))-1)\n",
    "    im0 = ax0.imshow(incre4[:, :, idx_z, idx_t, 0], extent=[-9,-7,6,8], vmin=vmin4[0], vmax=vmax4[0])\n",
    "    im1 = ax1.imshow(incre4[:, :, idx_z, idx_t, 1], extent=[-9,-7,6,8], vmin=vmin4[1], vmax=vmax4[1])\n",
    "    im2 = ax2.imshow(incre4[:, :, idx_z, idx_t, 2], extent=[-9,-7,6,8], vmin=vmin4[2], vmax=vmax4[2])\n",
    "    \n",
    "    # colorbar\n",
    "    cbar0 = fig.colorbar(im0, ax=ax0, aspect=5)\n",
    "    cbar1 = fig.colorbar(im1, ax=ax1, aspect=5)\n",
    "    cbar2 = fig.colorbar(im2, ax=ax2, aspect=5)\n",
    "    cbar0.ax.tick_params(labelsize=60)\n",
    "    cbar1.ax.tick_params(labelsize=60)\n",
    "    cbar2.ax.tick_params(labelsize=60)\n",
    "    \n",
    "    # title\n",
    "    ax0.set_title('x', fontsize=50)\n",
    "    ax1.set_title('y', fontsize=50)\n",
    "    ax2.set_title('z', fontsize=50)\n",
    "    \n",
    "    # ticks\n",
    "    ax0.tick_params(axis='both', which='major', labelsize=60)\n",
    "    ax1.tick_params(axis='both', which='major', labelsize=60)\n",
    "    ax2.tick_params(axis='both', which='major', labelsize=60)\n",
    "    ax0.axis('off')\n",
    "    ax1.axis('off')\n",
    "    ax2.axis('off')\n",
    "\n",
    "    return t, fig\n",
    "\n",
    "# viz\n",
    "w4 = interactive(viz_lorenz_increment, time=(dt, max_time, dt), z=(26, 28, 0.1))\n",
    "display(w4)"
   ]
  },
  {
   "cell_type": "code",
   "execution_count": null,
   "metadata": {},
   "outputs": [],
   "source": []
  },
  {
   "cell_type": "code",
   "execution_count": null,
   "metadata": {},
   "outputs": [],
   "source": []
  },
  {
   "cell_type": "code",
   "execution_count": null,
   "metadata": {},
   "outputs": [],
   "source": []
  },
  {
   "cell_type": "code",
   "execution_count": null,
   "metadata": {},
   "outputs": [],
   "source": []
  },
  {
   "cell_type": "code",
   "execution_count": null,
   "metadata": {},
   "outputs": [],
   "source": []
  },
  {
   "cell_type": "code",
   "execution_count": null,
   "metadata": {},
   "outputs": [],
   "source": []
  },
  {
   "cell_type": "code",
   "execution_count": null,
   "metadata": {},
   "outputs": [],
   "source": []
  },
  {
   "cell_type": "code",
   "execution_count": null,
   "metadata": {},
   "outputs": [],
   "source": []
  }
 ],
 "metadata": {
  "kernelspec": {
   "display_name": "Python 3",
   "language": "python",
   "name": "python3"
  },
  "language_info": {
   "codemirror_mode": {
    "name": "ipython",
    "version": 3
   },
   "file_extension": ".py",
   "mimetype": "text/x-python",
   "name": "python",
   "nbconvert_exporter": "python",
   "pygments_lexer": "ipython3",
   "version": "3.7.7"
  }
 },
 "nbformat": 4,
 "nbformat_minor": 2
}
