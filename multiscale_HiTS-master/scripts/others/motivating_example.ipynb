{
 "cells": [
  {
   "cell_type": "markdown",
   "metadata": {},
   "source": [
    "## A motivating example: harmonic oscillator"
   ]
  },
  {
   "cell_type": "markdown",
   "metadata": {},
   "source": [
    "[![Open In Colab](https://colab.research.google.com/assets/colab-badge.svg)](https://colab.research.google.com/drive/1I6sX-yqP__Z3iX-ita-pXi96d-tnZT_S#scrollTo=It1GM_lMFAdf)"
   ]
  },
  {
   "cell_type": "markdown",
   "metadata": {},
   "source": [
    "### created by Yuying Liu, 11/02/2019"
   ]
  },
  {
   "cell_type": "markdown",
   "metadata": {},
   "source": [
    "This script provides a toy example of our proposed multiscale HiTS, which is the motivating example (simple linear differential equation for a harmonic oscillator) in our paper, and it can be run on CPU. \n",
    "\n",
    "It can be used to reproduce Figure 2."
   ]
  },
  {
   "cell_type": "code",
   "execution_count": 1,
   "metadata": {},
   "outputs": [],
   "source": [
    "# imports\n",
    "import os\n",
    "import sys\n",
    "import torch\n",
    "import numpy as np\n",
    "import scipy as sp\n",
    "from scipy import integrate\n",
    "from tqdm.notebook import tqdm\n",
    "import matplotlib.pyplot as plt\n",
    "import matplotlib.gridspec as gridspec\n",
    "from mpl_toolkits.mplot3d import Axes3D\n",
    "\n",
    "import warnings\n",
    "warnings.filterwarnings('ignore')\n",
    "\n",
    "module_path = os.path.abspath(os.path.join('../../src/'))\n",
    "if module_path not in sys.path:\n",
    "    sys.path.append(module_path)\n",
    "    \n",
    "import ResNet as net"
   ]
  },
  {
   "cell_type": "code",
   "execution_count": 2,
   "metadata": {},
   "outputs": [],
   "source": [
    "# # # # # # # # # # # # # # # # # #\n",
    "#  global constants, paths, etc.  #\n",
    "# # # # # # # # # # # # # # # # # #\n",
    "load_data = False\n",
    "load_model = False\n",
    "data_dir = '../../data/Linear/'\n",
    "model_dir = '../../models/Linear/'"
   ]
  },
  {
   "cell_type": "markdown",
   "metadata": {},
   "source": [
    "### Simulation"
   ]
  },
  {
   "cell_type": "code",
   "execution_count": 3,
   "metadata": {},
   "outputs": [
    {
     "name": "stdout",
     "output_type": "stream",
     "text": [
      "generating training trials ...\n"
     ]
    },
    {
     "data": {
      "application/vnd.jupyter.widget-view+json": {
       "model_id": "5d86afb2d5094a9faca5d43a1becd42b",
       "version_major": 2,
       "version_minor": 0
      },
      "text/plain": [
       "HBox(children=(FloatProgress(value=0.0, max=500.0), HTML(value='')))"
      ]
     },
     "metadata": {},
     "output_type": "display_data"
    },
    {
     "name": "stdout",
     "output_type": "stream",
     "text": [
      "\n",
      "generating validating trials ...\n"
     ]
    },
    {
     "data": {
      "application/vnd.jupyter.widget-view+json": {
       "model_id": "2125d60e5478489bb51ea783099dc710",
       "version_major": 2,
       "version_minor": 0
      },
      "text/plain": [
       "HBox(children=(FloatProgress(value=0.0), HTML(value='')))"
      ]
     },
     "metadata": {},
     "output_type": "display_data"
    },
    {
     "name": "stdout",
     "output_type": "stream",
     "text": [
      "\n",
      "generating testing trials ...\n"
     ]
    },
    {
     "data": {
      "application/vnd.jupyter.widget-view+json": {
       "model_id": "804407c31b8c48498a17816f7a4ea52e",
       "version_major": 2,
       "version_minor": 0
      },
      "text/plain": [
       "HBox(children=(FloatProgress(value=0.0), HTML(value='')))"
      ]
     },
     "metadata": {},
     "output_type": "display_data"
    },
    {
     "name": "stdout",
     "output_type": "stream",
     "text": [
      "\n"
     ]
    }
   ],
   "source": [
    "np.random.seed(2)  # for reproduction\n",
    "dt = 0.001\n",
    "train_steps = 2000  # at least equal to the largest step size\n",
    "val_steps = 2000\n",
    "test_steps = 2000  # t=20\n",
    "n_train = 500\n",
    "n_val = 100\n",
    "n_test = 100\n",
    "n = 2\n",
    "\n",
    "\n",
    "if load_data:\n",
    "    # # # # # # # # # # # # # # # # # # # #\n",
    "    # load simulated data from directory  #\n",
    "    # # # # # # # # # # # # # # # # # # # #\n",
    "    \n",
    "    train_data = np.load(os.path.join(data_dir, 'train.npy'))\n",
    "    val_data = np.load(os.path.join(data_dir, 'val.npy'))\n",
    "    test_data = np.load(os.path.join(data_dir, 'test.npy'))\n",
    "    n_train = train_data.shape[0]\n",
    "    n_val = val_data.shape[0]\n",
    "    n_test = test_data.shape[0]\n",
    "else:\n",
    "    # # # # # # # # # # # # \n",
    "    # harmonic oscillator #\n",
    "    # # # # # # # # # # # # \n",
    "\n",
    "    # training trajectories\n",
    "    train_data = np.zeros((n_train, train_steps, n))\n",
    "    t = np.linspace(0, (train_steps-1)*dt, train_steps)\n",
    "    print('generating training trials ...')\n",
    "    for i in tqdm(range(n_train)):\n",
    "        r0 = np.random.uniform(0, 2)\n",
    "        phi0 = np.random.uniform(-np.pi, np.pi)\n",
    "        train_data[i, :, :] = np.array([r0*np.sin(t+phi0), r0*np.cos(t+phi0)]).T\n",
    "        \n",
    "    # validating trajectories\n",
    "    val_data = np.zeros((n_val, val_steps, n))\n",
    "    t = np.linspace(0, (val_steps-1)*dt, val_steps)\n",
    "    print('generating validating trials ...')\n",
    "    for i in tqdm(range(n_val)):\n",
    "        r0 = np.random.uniform(0, 2)\n",
    "        phi0 = np.random.uniform(-np.pi, np.pi)\n",
    "        val_data[i, :, :] = np.array([r0*np.sin(t+phi0), r0*np.cos(t+phi0)]).T\n",
    "\n",
    "    # testing trajectories\n",
    "    test_data = np.zeros((n_test, test_steps, n))\n",
    "    t = np.linspace(0, (test_steps-1)*dt, test_steps)\n",
    "    print('generating testing trials ...')\n",
    "    for i in tqdm(range(n_test)):\n",
    "        r0 = np.random.uniform(0, 2)\n",
    "        phi0 = np.random.uniform(-np.pi, np.pi)\n",
    "        test_data[i, :, :] = np.array([r0*np.sin(t+phi0), r0*np.cos(t+phi0)]).T\n",
    "        \n",
    "    # save data\n",
    "    np.save(os.path.join(data_dir, 'train.npy'), train_data)\n",
    "    np.save(os.path.join(data_dir, 'val.npy'), val_data)\n",
    "    np.save(os.path.join(data_dir, 'test.npy'), test_data)"
   ]
  },
  {
   "cell_type": "markdown",
   "metadata": {},
   "source": [
    "### Load data"
   ]
  },
  {
   "cell_type": "code",
   "execution_count": 4,
   "metadata": {},
   "outputs": [
    {
     "name": "stdout",
     "output_type": "stream",
     "text": [
      "Dt's: \n",
      "0.008\n",
      "0.016\n",
      "0.032\n",
      "0.064\n",
      "0.128\n",
      "0.256\n",
      "0.512\n",
      "1.024\n"
     ]
    }
   ],
   "source": [
    "# load the data to dataset object\n",
    "datasets = list()\n",
    "step_sizes = list()\n",
    "print('Dt\\'s: ')\n",
    "for i in range(3, 11):\n",
    "    step_size = 2**i\n",
    "    print(step_size * dt)\n",
    "    step_sizes.append(step_size)\n",
    "    datasets.append(net.DataSet(train_data, val_data, test_data, dt, step_size=step_size, n_forward=1))"
   ]
  },
  {
   "cell_type": "markdown",
   "metadata": {},
   "source": [
    "### Train hierarchical neural network time-steppers"
   ]
  },
  {
   "cell_type": "code",
   "execution_count": 5,
   "metadata": {},
   "outputs": [
    {
     "name": "stdout",
     "output_type": "stream",
     "text": [
      "training model_D8 ...\n",
      "epoch 1000, training loss 4.099233592569362e-06, validation loss 4.990076831745682e-06\n",
      "(--> new model saved @ epoch 1000)\n",
      "epoch 2000, training loss 1.636853539821459e-06, validation loss 2.1645512333634542e-06\n",
      "(--> new model saved @ epoch 2000)\n",
      "epoch 3000, training loss 8.339052328665275e-07, validation loss 1.2134413509556907e-06\n",
      "(--> new model saved @ epoch 3000)\n",
      "epoch 4000, training loss 4.6078957893769257e-07, validation loss 7.379697422038589e-07\n",
      "(--> new model saved @ epoch 4000)\n",
      "epoch 5000, training loss 2.8116943440181785e-07, validation loss 5.722188802792516e-07\n",
      "(--> new model saved @ epoch 5000)\n",
      "epoch 6000, training loss 1.856793261367784e-07, validation loss 5.362145429899101e-07\n",
      "(--> new model saved @ epoch 6000)\n",
      "epoch 7000, training loss 1.0765031532855573e-07, validation loss 5.08565108248149e-07\n",
      "(--> new model saved @ epoch 7000)\n",
      "epoch 8000, training loss 6.813693431695356e-08, validation loss 4.1499748704154626e-07\n",
      "(--> new model saved @ epoch 8000)\n",
      "epoch 9000, training loss 1.5429628774654702e-07, validation loss 4.810448217540397e-07\n",
      "epoch 10000, training loss 4.080798277072972e-08, validation loss 2.982898763548292e-07\n",
      "(--> new model saved @ epoch 10000)\n",
      "epoch 11000, training loss 3.3139084365529925e-08, validation loss 2.6316570256312843e-07\n",
      "(--> new model saved @ epoch 11000)\n",
      "epoch 12000, training loss 6.416645419449196e-07, validation loss 8.53742960771342e-07\n",
      "epoch 13000, training loss 2.455656833433295e-08, validation loss 1.7058178514162137e-07\n",
      "(--> new model saved @ epoch 13000)\n",
      "epoch 14000, training loss 2.2878138494775158e-08, validation loss 1.3759887451669783e-07\n",
      "(--> new model saved @ epoch 14000)\n",
      "epoch 15000, training loss 5.861259211314973e-08, validation loss 1.572838073116145e-07\n",
      "epoch 16000, training loss 1.3451612268511326e-08, validation loss 9.976540837897119e-08\n",
      "(--> new model saved @ epoch 16000)\n",
      "epoch 17000, training loss 2.46859002572819e-07, validation loss 3.477707366528193e-07\n",
      "epoch 18000, training loss 4.783415974429772e-08, validation loss 1.304633059362459e-07\n",
      "epoch 19000, training loss 1.1297181856662064e-08, validation loss 8.564090592244611e-08\n",
      "(--> new model saved @ epoch 19000)\n",
      "epoch 20000, training loss 1.0712888354191819e-08, validation loss 8.166001919107657e-08\n",
      "(--> new model saved @ epoch 20000)\n",
      "training model_D16 ...\n",
      "epoch 1000, training loss 9.288708042731741e-07, validation loss 1.6123610748763895e-06\n",
      "(--> new model saved @ epoch 1000)\n",
      "epoch 2000, training loss 4.0241812371277774e-07, validation loss 8.929656019063259e-07\n",
      "(--> new model saved @ epoch 2000)\n",
      "epoch 3000, training loss 2.1875636946333543e-07, validation loss 5.112659664519015e-07\n",
      "(--> new model saved @ epoch 3000)\n",
      "epoch 4000, training loss 1.2651989322876034e-07, validation loss 3.0683543172926875e-07\n",
      "(--> new model saved @ epoch 4000)\n",
      "epoch 5000, training loss 8.183280186813136e-08, validation loss 1.9669812445499701e-07\n",
      "(--> new model saved @ epoch 5000)\n",
      "epoch 6000, training loss 5.4182006437031305e-08, validation loss 1.4341259202410583e-07\n",
      "(--> new model saved @ epoch 6000)\n",
      "epoch 7000, training loss 3.785382673981985e-08, validation loss 1.0409625872398465e-07\n",
      "(--> new model saved @ epoch 7000)\n",
      "epoch 8000, training loss 2.0252358012839977e-07, validation loss 2.441703941258311e-07\n",
      "epoch 9000, training loss 5.632029242974568e-08, validation loss 1.1366709884441661e-07\n",
      "epoch 10000, training loss 1.1902851326794917e-07, validation loss 1.4623473987285251e-07\n",
      "epoch 11000, training loss 3.621411082121995e-08, validation loss 6.722845569129277e-08\n",
      "(--> new model saved @ epoch 11000)\n",
      "epoch 12000, training loss 8.631663206415396e-08, validation loss 1.0772668446179523e-07\n",
      "epoch 13000, training loss 1.28247179986829e-07, validation loss 1.6665157431816624e-07\n",
      "epoch 14000, training loss 4.2838496483454946e-07, validation loss 4.638489485842001e-07\n",
      "epoch 15000, training loss 1.0808395067840593e-08, validation loss 3.531397751999066e-08\n",
      "(--> new model saved @ epoch 15000)\n",
      "epoch 16000, training loss 7.85255327429013e-09, validation loss 3.147881955101184e-08\n",
      "(--> new model saved @ epoch 16000)\n",
      "epoch 17000, training loss 7.471824936544635e-09, validation loss 2.9249392241581518e-08\n",
      "(--> new model saved @ epoch 17000)\n",
      "epoch 18000, training loss 1.8973947746303566e-08, validation loss 4.137076814458851e-08\n",
      "epoch 19000, training loss 7.54572653249852e-08, validation loss 9.435144221470182e-08\n",
      "epoch 20000, training loss 5.900079980136752e-09, validation loss 2.536074283909784e-08\n",
      "(--> new model saved @ epoch 20000)\n",
      "training model_D32 ...\n",
      "epoch 1000, training loss 5.703989700123202e-06, validation loss 8.86649559106445e-06\n",
      "(--> new model saved @ epoch 1000)\n",
      "epoch 2000, training loss 2.278946340084076e-06, validation loss 2.9698910566366976e-06\n",
      "(--> new model saved @ epoch 2000)\n",
      "epoch 3000, training loss 1.1506780310810427e-06, validation loss 1.4879806258250028e-06\n",
      "(--> new model saved @ epoch 3000)\n",
      "epoch 4000, training loss 6.646009182986745e-07, validation loss 8.301902312268794e-07\n",
      "(--> new model saved @ epoch 4000)\n",
      "epoch 5000, training loss 4.1802474015639746e-07, validation loss 5.580892548096017e-07\n",
      "(--> new model saved @ epoch 5000)\n",
      "epoch 6000, training loss 2.6810587883119297e-07, validation loss 3.7389264662124333e-07\n",
      "(--> new model saved @ epoch 6000)\n",
      "epoch 7000, training loss 2.433294810089137e-07, validation loss 3.9477566815548926e-07\n",
      "epoch 8000, training loss 1.27374264025093e-07, validation loss 2.3661584691581083e-07\n",
      "(--> new model saved @ epoch 8000)\n",
      "epoch 9000, training loss 2.3472095733723108e-07, validation loss 3.735510176738899e-07\n",
      "epoch 10000, training loss 7.222165976372708e-08, validation loss 1.641776776750703e-07\n",
      "(--> new model saved @ epoch 10000)\n",
      "epoch 11000, training loss 1.3230435058630974e-07, validation loss 1.9059606870541757e-07\n",
      "epoch 12000, training loss 4.771684203319637e-08, validation loss 1.2070798049990117e-07\n",
      "(--> new model saved @ epoch 12000)\n",
      "epoch 13000, training loss 1.3368691043069703e-07, validation loss 2.0912700904318626e-07\n",
      "epoch 14000, training loss 3.3106167052210367e-07, validation loss 4.248577170073986e-07\n",
      "epoch 15000, training loss 3.001379766942591e-08, validation loss 1.019500075472024e-07\n",
      "(--> new model saved @ epoch 15000)\n",
      "epoch 16000, training loss 5.588531237776806e-08, validation loss 1.140499321650168e-07\n",
      "epoch 17000, training loss 7.018924463864096e-08, validation loss 1.3929764008935308e-07\n",
      "epoch 18000, training loss 1.6186898932346594e-08, validation loss 7.989589079215875e-08\n",
      "(--> new model saved @ epoch 18000)\n",
      "epoch 19000, training loss 1.1339143668465113e-07, validation loss 1.6580426631662704e-07\n",
      "epoch 20000, training loss 1.2444909103237478e-08, validation loss 6.369342031575798e-08\n",
      "(--> new model saved @ epoch 20000)\n",
      "training model_D64 ...\n",
      "epoch 1000, training loss 1.8717113334787427e-06, validation loss 3.035674126294907e-06\n",
      "(--> new model saved @ epoch 1000)\n",
      "epoch 2000, training loss 8.356270768672402e-07, validation loss 1.5576047189824749e-06\n",
      "(--> new model saved @ epoch 2000)\n",
      "epoch 3000, training loss 4.83260180317302e-07, validation loss 1.086582415155135e-06\n",
      "(--> new model saved @ epoch 3000)\n",
      "epoch 4000, training loss 2.981254851874837e-07, validation loss 7.995913620106876e-07\n",
      "(--> new model saved @ epoch 4000)\n",
      "epoch 5000, training loss 1.8933475587346038e-07, validation loss 5.819227908432367e-07\n",
      "(--> new model saved @ epoch 5000)\n",
      "epoch 6000, training loss 1.3895069628233614e-07, validation loss 3.965674579831102e-07\n",
      "(--> new model saved @ epoch 6000)\n",
      "epoch 7000, training loss 1.524376074257816e-07, validation loss 3.1260896093954216e-07\n",
      "(--> new model saved @ epoch 7000)\n",
      "epoch 8000, training loss 7.658130130039353e-08, validation loss 2.2948709954562219e-07\n",
      "(--> new model saved @ epoch 8000)\n",
      "epoch 9000, training loss 7.197068896402925e-08, validation loss 2.0493160945989075e-07\n",
      "(--> new model saved @ epoch 9000)\n",
      "epoch 10000, training loss 4.723527524674864e-08, validation loss 1.7094598092626256e-07\n",
      "(--> new model saved @ epoch 10000)\n",
      "epoch 11000, training loss 7.276761948560306e-08, validation loss 1.8162972992286086e-07\n",
      "epoch 12000, training loss 5.1143697277211686e-08, validation loss 1.512019736082948e-07\n",
      "(--> new model saved @ epoch 12000)\n"
     ]
    },
    {
     "name": "stdout",
     "output_type": "stream",
     "text": [
      "epoch 13000, training loss 2.853294347460178e-07, validation loss 3.731333606538101e-07\n",
      "epoch 14000, training loss 2.256773612430152e-08, validation loss 1.241533027496189e-07\n",
      "(--> new model saved @ epoch 14000)\n",
      "epoch 15000, training loss 2.5368596112684827e-08, validation loss 1.281708108535895e-07\n",
      "epoch 16000, training loss 1.8272418245146582e-08, validation loss 1.336565134124612e-07\n",
      "epoch 17000, training loss 8.34393958371038e-08, validation loss 2.0842279013777443e-07\n",
      "epoch 18000, training loss 1.7075986846748492e-08, validation loss 1.389864650036543e-07\n",
      "epoch 19000, training loss 1.2679543637261759e-08, validation loss 1.3612630311854446e-07\n",
      "epoch 20000, training loss 1.6075713205054853e-08, validation loss 1.4526126790315175e-07\n",
      "training model_D128 ...\n",
      "epoch 1000, training loss 2.903019321820466e-06, validation loss 3.346796802361496e-06\n",
      "(--> new model saved @ epoch 1000)\n",
      "epoch 2000, training loss 9.034276331476576e-07, validation loss 1.4807876596023561e-06\n",
      "(--> new model saved @ epoch 2000)\n",
      "epoch 3000, training loss 5.005308594263624e-07, validation loss 9.563303819959401e-07\n",
      "(--> new model saved @ epoch 3000)\n",
      "epoch 4000, training loss 3.115295044153754e-07, validation loss 6.333514193102019e-07\n",
      "(--> new model saved @ epoch 4000)\n",
      "epoch 5000, training loss 2.3603404031291575e-07, validation loss 4.6500531425408553e-07\n",
      "(--> new model saved @ epoch 5000)\n",
      "epoch 6000, training loss 1.0912692971487559e-07, validation loss 2.829961545103288e-07\n",
      "(--> new model saved @ epoch 6000)\n",
      "epoch 7000, training loss 6.649101180755679e-08, validation loss 1.943978418239567e-07\n",
      "(--> new model saved @ epoch 7000)\n",
      "epoch 8000, training loss 4.3110972569593287e-08, validation loss 1.429862095392309e-07\n",
      "(--> new model saved @ epoch 8000)\n",
      "epoch 9000, training loss 2.757781558671013e-08, validation loss 1.0821837292951386e-07\n",
      "(--> new model saved @ epoch 9000)\n",
      "epoch 10000, training loss 5.2071261080754994e-08, validation loss 1.2544948901904718e-07\n",
      "epoch 11000, training loss 8.595798561827905e-08, validation loss 1.3987029490181158e-07\n",
      "epoch 12000, training loss 1.4939940840008603e-08, validation loss 6.652248885075096e-08\n",
      "(--> new model saved @ epoch 12000)\n",
      "epoch 13000, training loss 1.76691116848815e-07, validation loss 2.4035637125052745e-07\n",
      "epoch 14000, training loss 8.219802616338256e-09, validation loss 4.818212318014048e-08\n",
      "(--> new model saved @ epoch 14000)\n",
      "epoch 15000, training loss 6.609154112879878e-09, validation loss 4.2689276114060704e-08\n",
      "(--> new model saved @ epoch 15000)\n",
      "epoch 16000, training loss 1.842277583818941e-06, validation loss 2.0088414203200955e-06\n",
      "epoch 17000, training loss 3.1323077109846054e-07, validation loss 3.9571318666276056e-07\n",
      "epoch 18000, training loss 5.0365094317328385e-09, validation loss 3.414832150383518e-08\n",
      "(--> new model saved @ epoch 18000)\n",
      "epoch 19000, training loss 4.505910666807722e-08, validation loss 8.170920295924589e-08\n",
      "epoch 20000, training loss 8.386364811485691e-07, validation loss 9.460938485972292e-07\n",
      "training model_D256 ...\n",
      "epoch 1000, training loss 8.618704669061117e-06, validation loss 8.246837751357816e-06\n",
      "(--> new model saved @ epoch 1000)\n",
      "epoch 2000, training loss 3.360630216775462e-06, validation loss 4.353556960268179e-06\n",
      "(--> new model saved @ epoch 2000)\n",
      "epoch 3000, training loss 1.8653109918886912e-06, validation loss 2.608299837447703e-06\n",
      "(--> new model saved @ epoch 3000)\n",
      "epoch 4000, training loss 1.0390233455837006e-06, validation loss 1.9671890640893253e-06\n",
      "(--> new model saved @ epoch 4000)\n",
      "epoch 5000, training loss 6.205606268849806e-07, validation loss 1.525849711470073e-06\n",
      "(--> new model saved @ epoch 5000)\n",
      "epoch 6000, training loss 4.0701783632357547e-07, validation loss 1.0790474789246218e-06\n",
      "(--> new model saved @ epoch 6000)\n",
      "epoch 7000, training loss 3.1110093345887435e-07, validation loss 8.102956599032041e-07\n",
      "(--> new model saved @ epoch 7000)\n",
      "epoch 8000, training loss 2.0375115639126307e-07, validation loss 6.353122330438055e-07\n",
      "(--> new model saved @ epoch 8000)\n",
      "epoch 9000, training loss 5.427966698334785e-07, validation loss 9.417609589945641e-07\n",
      "epoch 10000, training loss 1.4466884294961346e-06, validation loss 1.8565116306490381e-06\n",
      "epoch 11000, training loss 4.2315960513406026e-07, validation loss 7.152135594878928e-07\n",
      "epoch 12000, training loss 1.2765926271640637e-07, validation loss 3.328222817344795e-07\n",
      "(--> new model saved @ epoch 12000)\n",
      "epoch 13000, training loss 2.103917722706683e-06, validation loss 2.132626150341821e-06\n",
      "epoch 14000, training loss 7.171919378379243e-07, validation loss 9.384235681864084e-07\n",
      "epoch 15000, training loss 6.622706223424757e-07, validation loss 8.807333529148309e-07\n",
      "epoch 16000, training loss 1.6900220600746252e-07, validation loss 3.465128486368485e-07\n",
      "epoch 17000, training loss 9.320118721234394e-08, validation loss 2.4589854774603737e-07\n",
      "(--> new model saved @ epoch 17000)\n",
      "epoch 18000, training loss 1.8516352895403543e-07, validation loss 3.245957600483962e-07\n",
      "epoch 19000, training loss 3.791343061720909e-08, validation loss 1.9203939416456706e-07\n",
      "(--> new model saved @ epoch 19000)\n",
      "epoch 20000, training loss 4.318627233601546e-08, validation loss 2.079914480646039e-07\n",
      "training model_D512 ...\n",
      "epoch 1000, training loss 2.082991886709351e-05, validation loss 2.7662354113999754e-05\n",
      "(--> new model saved @ epoch 1000)\n",
      "epoch 2000, training loss 7.059968083922286e-06, validation loss 1.148744468082441e-05\n",
      "(--> new model saved @ epoch 2000)\n",
      "epoch 3000, training loss 3.049240604013903e-06, validation loss 5.799532573291799e-06\n",
      "(--> new model saved @ epoch 3000)\n",
      "epoch 4000, training loss 1.493743639002787e-06, validation loss 3.1058909826242598e-06\n",
      "(--> new model saved @ epoch 4000)\n",
      "epoch 5000, training loss 1.1954182355111698e-06, validation loss 2.922454541476327e-06\n",
      "(--> new model saved @ epoch 5000)\n",
      "epoch 6000, training loss 3.2534785532334354e-06, validation loss 4.999194516130956e-06\n",
      "epoch 7000, training loss 5.161138233233942e-06, validation loss 5.7493321037327405e-06\n",
      "epoch 8000, training loss 2.539347008223558e-07, validation loss 1.435454919374024e-06\n",
      "(--> new model saved @ epoch 8000)\n",
      "epoch 9000, training loss 2.383123813842758e-07, validation loss 1.3254258419692633e-06\n",
      "(--> new model saved @ epoch 9000)\n",
      "epoch 10000, training loss 1.859285561067736e-07, validation loss 1.1622777265074546e-06\n",
      "(--> new model saved @ epoch 10000)\n",
      "epoch 11000, training loss 2.349695336079094e-07, validation loss 1.1556031722648186e-06\n",
      "(--> new model saved @ epoch 11000)\n",
      "epoch 12000, training loss 7.433759037667187e-06, validation loss 8.227221769629978e-06\n",
      "epoch 13000, training loss 2.2720080323779257e-06, validation loss 3.1095792110136244e-06\n",
      "epoch 14000, training loss 4.056450052303262e-06, validation loss 4.828476448892616e-06\n",
      "epoch 15000, training loss 9.835362391186209e-08, validation loss 8.164373639374389e-07\n",
      "(--> new model saved @ epoch 15000)\n",
      "epoch 16000, training loss 6.971676924649728e-08, validation loss 7.225021363410633e-07\n",
      "(--> new model saved @ epoch 16000)\n",
      "epoch 17000, training loss 1.091655548179915e-07, validation loss 6.735431838933437e-07\n",
      "(--> new model saved @ epoch 17000)\n",
      "epoch 18000, training loss 2.0567408682836685e-06, validation loss 2.399262029939564e-06\n",
      "epoch 19000, training loss 5.411795100940253e-08, validation loss 6.170593565002491e-07\n",
      "(--> new model saved @ epoch 19000)\n",
      "epoch 20000, training loss 2.242039869315704e-07, validation loss 7.652495241927681e-07\n",
      "training model_D1024 ...\n",
      "epoch 1000, training loss 7.305607869056985e-05, validation loss 0.0001389551762258634\n",
      "(--> new model saved @ epoch 1000)\n",
      "epoch 2000, training loss 2.795777800201904e-05, validation loss 5.4209547670325264e-05\n",
      "(--> new model saved @ epoch 2000)\n",
      "epoch 3000, training loss 1.542980498925317e-05, validation loss 3.059035225305706e-05\n",
      "(--> new model saved @ epoch 3000)\n",
      "epoch 4000, training loss 9.240505278285127e-06, validation loss 2.0531751943053678e-05\n",
      "(--> new model saved @ epoch 4000)\n",
      "epoch 5000, training loss 5.4486285989696626e-06, validation loss 1.275583326787455e-05\n",
      "(--> new model saved @ epoch 5000)\n",
      "epoch 6000, training loss 3.5773016406892566e-06, validation loss 8.99927272257628e-06\n",
      "(--> new model saved @ epoch 6000)\n",
      "epoch 7000, training loss 1.8637762195794494e-06, validation loss 5.0903809096780606e-06\n",
      "(--> new model saved @ epoch 7000)\n"
     ]
    },
    {
     "name": "stdout",
     "output_type": "stream",
     "text": [
      "epoch 8000, training loss 1.1157402468597866e-06, validation loss 3.602151082304772e-06\n",
      "(--> new model saved @ epoch 8000)\n",
      "epoch 9000, training loss 7.239510182444064e-07, validation loss 2.777769168460509e-06\n",
      "(--> new model saved @ epoch 9000)\n",
      "epoch 10000, training loss 1.021942580337054e-06, validation loss 2.4481178115820512e-06\n",
      "(--> new model saved @ epoch 10000)\n",
      "epoch 11000, training loss 5.632743068417767e-06, validation loss 6.79248205415206e-06\n",
      "epoch 12000, training loss 4.038915051296499e-07, validation loss 1.61265245424147e-06\n",
      "(--> new model saved @ epoch 12000)\n",
      "epoch 13000, training loss 3.5258406683169596e-07, validation loss 1.344602765129821e-06\n",
      "(--> new model saved @ epoch 13000)\n",
      "epoch 14000, training loss 2.871556716854684e-07, validation loss 1.170331302091654e-06\n",
      "(--> new model saved @ epoch 14000)\n",
      "epoch 15000, training loss 2.5277157078562595e-07, validation loss 1.09883512777742e-06\n",
      "(--> new model saved @ epoch 15000)\n",
      "epoch 16000, training loss 8.867930773703847e-06, validation loss 9.621516255720053e-06\n",
      "epoch 17000, training loss 2.2592651305330946e-07, validation loss 9.490554475632962e-07\n",
      "(--> new model saved @ epoch 17000)\n",
      "epoch 18000, training loss 1.4027581300979364e-06, validation loss 1.9836511455650907e-06\n",
      "epoch 19000, training loss 1.83632678840695e-07, validation loss 8.464774055028101e-07\n",
      "(--> new model saved @ epoch 19000)\n",
      "epoch 20000, training loss 2.173769502178402e-07, validation loss 8.483866054120881e-07\n"
     ]
    }
   ],
   "source": [
    "models = list()\n",
    "max_epoch=20000\n",
    "\n",
    "if load_model:\n",
    "    # load the model\n",
    "    for step_size in step_sizes:\n",
    "        models.append(torch.load(os.path.join(model_dir, 'model_D{}.pt'.format(step_size)), map_location='cpu'))\n",
    "else:\n",
    "    for (step_size, dataset) in zip(step_sizes, datasets):\n",
    "        # set up the network\n",
    "        model = net.ResNet(arch=[2, 32, 32, 2], dt=dt, step_size=step_size)\n",
    "        # training\n",
    "        print('training model_D{} ...'.format(step_size))\n",
    "        model.train_net(dataset, max_epoch=max_epoch, batch_size=n_train, lr=1e-3, \n",
    "                        model_path=os.path.join(model_dir, 'model_D{}.pt'.format(step_size)))\n",
    "        models.append(model)"
   ]
  },
  {
   "cell_type": "code",
   "execution_count": 6,
   "metadata": {},
   "outputs": [
    {
     "data": {
      "application/vnd.jupyter.widget-view+json": {
       "model_id": "749f0dfd860b412cbfffda2216f3f9e9",
       "version_major": 2,
       "version_minor": 0
      },
      "text/plain": [
       "HBox(children=(FloatProgress(value=0.0, max=8.0), HTML(value='')))"
      ]
     },
     "metadata": {},
     "output_type": "display_data"
    },
    {
     "name": "stdout",
     "output_type": "stream",
     "text": [
      "\n"
     ]
    },
    {
     "data": {
      "application/vnd.jupyter.widget-view+json": {
       "model_id": "0081a4fa140b4833a2400193603e1f8c",
       "version_major": 2,
       "version_minor": 0
      },
      "text/plain": [
       "HBox(children=(FloatProgress(value=0.0, max=8.0), HTML(value='')))"
      ]
     },
     "metadata": {},
     "output_type": "display_data"
    },
    {
     "name": "stdout",
     "output_type": "stream",
     "text": [
      "\n"
     ]
    },
    {
     "data": {
      "application/vnd.jupyter.widget-view+json": {
       "model_id": "df67f960897e462d94f3bdc05a458b5f",
       "version_major": 2,
       "version_minor": 0
      },
      "text/plain": [
       "HBox(children=(FloatProgress(value=0.0, max=6.0), HTML(value='')))"
      ]
     },
     "metadata": {},
     "output_type": "display_data"
    },
    {
     "name": "stdout",
     "output_type": "stream",
     "text": [
      "\n",
      "use models 2 - 6.\n"
     ]
    },
    {
     "data": {
      "text/plain": [
       "(array([-10.,  -9.,  -8.,  -7.,  -6.,  -5.,  -4.,  -3.,  -2.,  -1.]),\n",
       " [Text(0, 0, ''),\n",
       "  Text(0, 0, ''),\n",
       "  Text(0, 0, ''),\n",
       "  Text(0, 0, ''),\n",
       "  Text(0, 0, ''),\n",
       "  Text(0, 0, ''),\n",
       "  Text(0, 0, ''),\n",
       "  Text(0, 0, ''),\n",
       "  Text(0, 0, ''),\n",
       "  Text(0, 0, '')])"
      ]
     },
     "execution_count": 6,
     "metadata": {},
     "output_type": "execute_result"
    },
    {
     "data": {
      "image/png": "[encoded data removed]",
      "text/plain": [
       "<Figure size 1440x432 with 1 Axes>"
      ]
     },
     "metadata": {
      "needs_background": "light"
     },
     "output_type": "display_data"
    }
   ],
   "source": [
    "criterion = torch.nn.MSELoss(reduction='none')\n",
    "\n",
    "# uniscale time-stepping with NN\n",
    "preds_mse = list()\n",
    "for model in tqdm(models):\n",
    "    y_preds = model.uni_scale_forecast(torch.tensor(test_data[:, 0, :]).float(), n_steps=test_steps-1)\n",
    "    preds_mse.append(criterion(torch.tensor(test_data[:, 1:, :]).float(), y_preds).mean(-1))\n",
    "    \n",
    "# model selections \n",
    "start_idx = 0\n",
    "end_idx = len(models)\n",
    "best_mse = 1e+5\n",
    "\n",
    "# choose the largest time step\n",
    "for i in tqdm(range(len(models))):\n",
    "    y_preds = net.vectorized_multi_scale_forecast(torch.tensor(test_data[:, 0, :]).float(), n_steps=test_steps-1, models=models[:len(models)-i])\n",
    "    mse = criterion(torch.tensor(test_data[:, 1:, :]).float(), y_preds).mean().item()\n",
    "    if mse <= best_mse:\n",
    "        end_idx = len(models)-i\n",
    "        best_mse = mse\n",
    "\n",
    "# choose the smallest time step\n",
    "for i in tqdm(range(end_idx)):\n",
    "    y_preds = net.vectorized_multi_scale_forecast(torch.tensor(test_data[:, 0, :]).float(), n_steps=test_steps-1, models=models[i:end_idx])\n",
    "    mse = criterion(torch.tensor(test_data[:, 1:, :]).float(), y_preds).mean().item()\n",
    "    if mse <= best_mse:\n",
    "        start_idx = i\n",
    "        best_mse = mse\n",
    "        \n",
    "print('use models {} - {}.'.format(start_idx, end_idx))\n",
    "models = models[start_idx:end_idx]\n",
    "\n",
    "# multiscale time-stepping with NN\n",
    "y_preds = net.vectorized_multi_scale_forecast(torch.tensor(test_data[:, 0, :]).float(), n_steps=test_steps-1, models=models)\n",
    "multiscale_preds_mse = criterion(torch.tensor(test_data[:, 1:, :]).float(), y_preds).mean(-1)\n",
    "multiscale_err = multiscale_preds_mse.mean(0).detach().numpy()\n",
    "    \n",
    "# visualize forecasting error at each time step    \n",
    "fig = plt.figure(figsize=(20, 6))\n",
    "colors=iter(plt.cm.rainbow(np.linspace(0, 1, len(datasets))))\n",
    "for k in range(len(preds_mse)):\n",
    "    err = preds_mse[k]\n",
    "    mean = err.mean(0).detach().numpy()\n",
    "    rgb = next(colors)\n",
    "    plt.plot(t[:-1], np.log10(mean), linestyle='-', color=rgb, linewidth=3.0, alpha=0.5, label='$\\Delta\\ t$={}'.format(step_sizes[k]*dt))\n",
    "plt.plot(t[:-1], np.log10(multiscale_err), linestyle='-', color='k', linewidth=4.0, label='multiscale')\n",
    "plt.legend(fontsize=20, loc='upper right')\n",
    "plt.xticks(fontsize=20)\n",
    "plt.yticks(fontsize=20)"
   ]
  },
  {
   "cell_type": "code",
   "execution_count": null,
   "metadata": {},
   "outputs": [],
   "source": []
  },
  {
   "cell_type": "code",
   "execution_count": null,
   "metadata": {},
   "outputs": [],
   "source": []
  },
  {
   "cell_type": "code",
   "execution_count": null,
   "metadata": {},
   "outputs": [],
   "source": []
  },
  {
   "cell_type": "code",
   "execution_count": null,
   "metadata": {},
   "outputs": [],
   "source": []
  },
  {
   "cell_type": "code",
   "execution_count": null,
   "metadata": {},
   "outputs": [],
   "source": []
  },
  {
   "cell_type": "code",
   "execution_count": null,
   "metadata": {},
   "outputs": [],
   "source": []
  },
  {
   "cell_type": "code",
   "execution_count": null,
   "metadata": {},
   "outputs": [],
   "source": []
  },
  {
   "cell_type": "code",
   "execution_count": null,
   "metadata": {},
   "outputs": [],
   "source": []
  },
  {
   "cell_type": "code",
   "execution_count": null,
   "metadata": {},
   "outputs": [],
   "source": []
  }
 ],
 "metadata": {
  "kernelspec": {
   "display_name": "Python 3",
   "language": "python",
   "name": "python3"
  },
  "language_info": {
   "codemirror_mode": {
    "name": "ipython",
    "version": 3
   },
   "file_extension": ".py",
   "mimetype": "text/x-python",
   "name": "python",
   "nbconvert_exporter": "python",
   "pygments_lexer": "ipython3",
   "version": "3.7.7"
  }
 },
 "nbformat": 4,
 "nbformat_minor": 2
}
